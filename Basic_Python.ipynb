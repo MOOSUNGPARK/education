{
  "nbformat": 4,
  "nbformat_minor": 0,
  "metadata": {
    "colab": {
      "name": "Basic_Python",
      "version": "0.3.2",
      "provenance": [],
      "toc_visible": true,
      "include_colab_link": true
    },
    "kernelspec": {
      "name": "python3",
      "display_name": "Python 3"
    }
  },
  "cells": [
    {
      "cell_type": "markdown",
      "metadata": {
        "id": "view-in-github",
        "colab_type": "text"
      },
      "source": [
        "<a href=\"https://colab.research.google.com/github/MOOSUNGPARK/education/blob/master/Basic_Python.ipynb\" target=\"_parent\"><img src=\"https://colab.research.google.com/assets/colab-badge.svg\" alt=\"Open In Colab\"/></a>"
      ]
    },
    {
      "metadata": {
        "id": "N0SydtDR1F7W",
        "colab_type": "code",
        "outputId": "058efc1b-0607-4723-9ebc-31c5e240c75b",
        "colab": {
          "base_uri": "https://localhost:8080/",
          "height": 68
        }
      },
      "cell_type": "code",
      "source": [
        "!git clone https://github.com/MOOSUNGPARK/education.git"
      ],
      "execution_count": 109,
      "outputs": [
        {
          "output_type": "stream",
          "text": [
            "fatal: destination path 'education' already exists and is not an empty directory.\n",
            "Requirement already satisfied: pydicom in /usr/local/lib/python3.6/dist-packages (1.2.2)\n",
            "Requirement already up-to-date: pillow in /usr/local/lib/python3.6/dist-packages (5.4.1)\n"
          ],
          "name": "stdout"
        }
      ]
    },
    {
      "metadata": {
        "id": "GXLnVYPL1UQP",
        "colab_type": "text"
      },
      "cell_type": "markdown",
      "source": [
        "# 1. Numpy Array 연산"
      ]
    },
    {
      "metadata": {
        "id": "jdF8TBU51aVN",
        "colab_type": "text"
      },
      "cell_type": "markdown",
      "source": [
        "## 모듈 불러오기"
      ]
    },
    {
      "metadata": {
        "id": "c206wqf01KQ-",
        "colab_type": "code",
        "colab": {}
      },
      "cell_type": "code",
      "source": [
        "import numpy as np"
      ],
      "execution_count": 0,
      "outputs": []
    },
    {
      "metadata": {
        "id": "T0q4SQ5-18KN",
        "colab_type": "text"
      },
      "cell_type": "markdown",
      "source": [
        "## Array 만들기"
      ]
    },
    {
      "metadata": {
        "id": "CPYV1Fyo25VO",
        "colab_type": "text"
      },
      "cell_type": "markdown",
      "source": [
        "### 1-d Array 만드는 방법1"
      ]
    },
    {
      "metadata": {
        "id": "0R8KUlNC1g89",
        "colab_type": "code",
        "colab": {}
      },
      "cell_type": "code",
      "source": [
        "arr1 = [1, 2, 3, 4, 5, 6, 7, 8, 9, 10]"
      ],
      "execution_count": 0,
      "outputs": []
    },
    {
      "metadata": {
        "id": "q3MEUVL51w92",
        "colab_type": "code",
        "outputId": "9b89d680-6d0c-4611-e6a5-7b92d566042a",
        "colab": {
          "base_uri": "https://localhost:8080/",
          "height": 34
        }
      },
      "cell_type": "code",
      "source": [
        "arr1"
      ],
      "execution_count": 4,
      "outputs": [
        {
          "output_type": "execute_result",
          "data": {
            "text/plain": [
              "[1, 2, 3, 4, 5, 6, 7, 8, 9, 10]"
            ]
          },
          "metadata": {
            "tags": []
          },
          "execution_count": 4
        }
      ]
    },
    {
      "metadata": {
        "id": "7WIM62yI1qoG",
        "colab_type": "code",
        "colab": {}
      },
      "cell_type": "code",
      "source": [
        "arr1 = np.array(arr1)"
      ],
      "execution_count": 0,
      "outputs": []
    },
    {
      "metadata": {
        "id": "HHMJzxO11yb9",
        "colab_type": "code",
        "outputId": "389f6d27-31a9-4af0-b57c-69a8b0c4d275",
        "colab": {
          "base_uri": "https://localhost:8080/",
          "height": 34
        }
      },
      "cell_type": "code",
      "source": [
        "arr1"
      ],
      "execution_count": 6,
      "outputs": [
        {
          "output_type": "execute_result",
          "data": {
            "text/plain": [
              "array([ 1,  2,  3,  4,  5,  6,  7,  8,  9, 10])"
            ]
          },
          "metadata": {
            "tags": []
          },
          "execution_count": 6
        }
      ]
    },
    {
      "metadata": {
        "id": "DPCpICIO29BN",
        "colab_type": "text"
      },
      "cell_type": "markdown",
      "source": [
        "### 1-d Array 만드는 방법2\n"
      ]
    },
    {
      "metadata": {
        "id": "iqKoZ1fc2xZd",
        "colab_type": "code",
        "colab": {}
      },
      "cell_type": "code",
      "source": [
        "arr1 = np.arange(1,11)"
      ],
      "execution_count": 0,
      "outputs": []
    },
    {
      "metadata": {
        "id": "7p_RZO1h21i9",
        "colab_type": "code",
        "outputId": "b3b1cafe-9f67-493d-c152-2ceb37126b03",
        "colab": {
          "base_uri": "https://localhost:8080/",
          "height": 34
        }
      },
      "cell_type": "code",
      "source": [
        "arr1"
      ],
      "execution_count": 8,
      "outputs": [
        {
          "output_type": "execute_result",
          "data": {
            "text/plain": [
              "array([ 1,  2,  3,  4,  5,  6,  7,  8,  9, 10])"
            ]
          },
          "metadata": {
            "tags": []
          },
          "execution_count": 8
        }
      ]
    },
    {
      "metadata": {
        "id": "ZB2pqCDW4821",
        "colab_type": "text"
      },
      "cell_type": "markdown",
      "source": [
        "### 2-d Array 만드는 방법1"
      ]
    },
    {
      "metadata": {
        "id": "pKT_cHiA5CxW",
        "colab_type": "code",
        "colab": {}
      },
      "cell_type": "code",
      "source": [
        "arr = np.array([[1,2],\n",
        "                [3,4]])"
      ],
      "execution_count": 0,
      "outputs": []
    },
    {
      "metadata": {
        "id": "TxPC7Kx75LDl",
        "colab_type": "code",
        "outputId": "f21c4029-2492-4ff7-cf40-2071279d8d65",
        "colab": {
          "base_uri": "https://localhost:8080/",
          "height": 51
        }
      },
      "cell_type": "code",
      "source": [
        "arr"
      ],
      "execution_count": 10,
      "outputs": [
        {
          "output_type": "execute_result",
          "data": {
            "text/plain": [
              "array([[1, 2],\n",
              "       [3, 4]])"
            ]
          },
          "metadata": {
            "tags": []
          },
          "execution_count": 10
        }
      ]
    },
    {
      "metadata": {
        "id": "cFTQ4Nco4_8c",
        "colab_type": "text"
      },
      "cell_type": "markdown",
      "source": [
        "### 2-d Array 만드는 방법2"
      ]
    },
    {
      "metadata": {
        "id": "4-Hsd8B_5Ogl",
        "colab_type": "code",
        "colab": {}
      },
      "cell_type": "code",
      "source": [
        "arr = np.array([1,2,3,4])"
      ],
      "execution_count": 0,
      "outputs": []
    },
    {
      "metadata": {
        "id": "3kvRtBn15Orx",
        "colab_type": "code",
        "outputId": "287c1b69-254c-47be-82c5-f67f928d467c",
        "colab": {
          "base_uri": "https://localhost:8080/",
          "height": 34
        }
      },
      "cell_type": "code",
      "source": [
        "arr"
      ],
      "execution_count": 12,
      "outputs": [
        {
          "output_type": "execute_result",
          "data": {
            "text/plain": [
              "array([1, 2, 3, 4])"
            ]
          },
          "metadata": {
            "tags": []
          },
          "execution_count": 12
        }
      ]
    },
    {
      "metadata": {
        "id": "N49LQof05UzD",
        "colab_type": "code",
        "colab": {}
      },
      "cell_type": "code",
      "source": [
        "arr = arr.reshape((2,2))"
      ],
      "execution_count": 0,
      "outputs": []
    },
    {
      "metadata": {
        "id": "4bu6Qj5z5VUs",
        "colab_type": "code",
        "outputId": "f3933639-e8b3-48fb-8de7-34f9f14d3c92",
        "colab": {
          "base_uri": "https://localhost:8080/",
          "height": 51
        }
      },
      "cell_type": "code",
      "source": [
        "arr"
      ],
      "execution_count": 14,
      "outputs": [
        {
          "output_type": "execute_result",
          "data": {
            "text/plain": [
              "array([[1, 2],\n",
              "       [3, 4]])"
            ]
          },
          "metadata": {
            "tags": []
          },
          "execution_count": 14
        }
      ]
    },
    {
      "metadata": {
        "id": "LH25on2q2BKN",
        "colab_type": "text"
      },
      "cell_type": "markdown",
      "source": [
        "## 간단한 Array 함수"
      ]
    },
    {
      "metadata": {
        "id": "3ZVjqymv2N8-",
        "colab_type": "text"
      },
      "cell_type": "markdown",
      "source": [
        "최대값 구하기"
      ]
    },
    {
      "metadata": {
        "id": "s8Ix_XM81zOl",
        "colab_type": "code",
        "outputId": "963f1f08-bafc-4e28-e33d-0b42f9ba5429",
        "colab": {
          "base_uri": "https://localhost:8080/",
          "height": 34
        }
      },
      "cell_type": "code",
      "source": [
        "np.max(arr1)"
      ],
      "execution_count": 15,
      "outputs": [
        {
          "output_type": "execute_result",
          "data": {
            "text/plain": [
              "10"
            ]
          },
          "metadata": {
            "tags": []
          },
          "execution_count": 15
        }
      ]
    },
    {
      "metadata": {
        "id": "TUK_tWZh2Rb-",
        "colab_type": "text"
      },
      "cell_type": "markdown",
      "source": [
        "최소값 구하기"
      ]
    },
    {
      "metadata": {
        "id": "rmtcO5qU2I1d",
        "colab_type": "code",
        "outputId": "5f8fe74d-65a4-4db4-9b1d-0db23898d0ec",
        "colab": {
          "base_uri": "https://localhost:8080/",
          "height": 34
        }
      },
      "cell_type": "code",
      "source": [
        "np.min(arr1)"
      ],
      "execution_count": 16,
      "outputs": [
        {
          "output_type": "execute_result",
          "data": {
            "text/plain": [
              "1"
            ]
          },
          "metadata": {
            "tags": []
          },
          "execution_count": 16
        }
      ]
    },
    {
      "metadata": {
        "id": "pwuw_Urj2U51",
        "colab_type": "text"
      },
      "cell_type": "markdown",
      "source": [
        "평균값 구하기"
      ]
    },
    {
      "metadata": {
        "id": "CdnLWLB42UEV",
        "colab_type": "code",
        "outputId": "3b766065-fca6-453a-c563-40a89a09d8b5",
        "colab": {
          "base_uri": "https://localhost:8080/",
          "height": 34
        }
      },
      "cell_type": "code",
      "source": [
        "np.mean(arr1)"
      ],
      "execution_count": 17,
      "outputs": [
        {
          "output_type": "execute_result",
          "data": {
            "text/plain": [
              "5.5"
            ]
          },
          "metadata": {
            "tags": []
          },
          "execution_count": 17
        }
      ]
    },
    {
      "metadata": {
        "id": "IU1R0ORr36gO",
        "colab_type": "text"
      },
      "cell_type": "markdown",
      "source": [
        "표준편차 구하기"
      ]
    },
    {
      "metadata": {
        "id": "Acays6ur36n3",
        "colab_type": "code",
        "outputId": "8f53a322-c39e-4e7e-be9d-e454aaf2ee4d",
        "colab": {
          "base_uri": "https://localhost:8080/",
          "height": 34
        }
      },
      "cell_type": "code",
      "source": [
        "np.std(arr1)"
      ],
      "execution_count": 18,
      "outputs": [
        {
          "output_type": "execute_result",
          "data": {
            "text/plain": [
              "2.8722813232690143"
            ]
          },
          "metadata": {
            "tags": []
          },
          "execution_count": 18
        }
      ]
    },
    {
      "metadata": {
        "id": "43j0asd-2jD9",
        "colab_type": "text"
      },
      "cell_type": "markdown",
      "source": [
        "## Array 연산하기"
      ]
    },
    {
      "metadata": {
        "id": "mHmbLqtU2Zqd",
        "colab_type": "code",
        "colab": {}
      },
      "cell_type": "code",
      "source": [
        "arr2 = np.ones((10, ))"
      ],
      "execution_count": 0,
      "outputs": []
    },
    {
      "metadata": {
        "id": "rQ0ScEQH3SWE",
        "colab_type": "code",
        "outputId": "be8a6a68-0528-43aa-ba4f-bc8b1f208ae3",
        "colab": {
          "base_uri": "https://localhost:8080/",
          "height": 34
        }
      },
      "cell_type": "code",
      "source": [
        "arr2"
      ],
      "execution_count": 28,
      "outputs": [
        {
          "output_type": "execute_result",
          "data": {
            "text/plain": [
              "array([2., 2., 2., 2., 2., 2., 2., 2., 2., 2.])"
            ]
          },
          "metadata": {
            "tags": []
          },
          "execution_count": 28
        }
      ]
    },
    {
      "metadata": {
        "id": "cS6GjSZH4Mrl",
        "colab_type": "text"
      },
      "cell_type": "markdown",
      "source": [
        "덧셈"
      ]
    },
    {
      "metadata": {
        "id": "LKFR8ALd3Sx9",
        "colab_type": "code",
        "outputId": "5a134f41-9b94-4d8a-d6ea-7886dba5745f",
        "colab": {
          "base_uri": "https://localhost:8080/",
          "height": 34
        }
      },
      "cell_type": "code",
      "source": [
        "arr1 + arr2"
      ],
      "execution_count": 29,
      "outputs": [
        {
          "output_type": "execute_result",
          "data": {
            "text/plain": [
              "array([ 3.,  4.,  5.,  6.,  7.,  8.,  9., 10., 11., 12.])"
            ]
          },
          "metadata": {
            "tags": []
          },
          "execution_count": 29
        }
      ]
    },
    {
      "metadata": {
        "id": "JRyfE4wi4OeX",
        "colab_type": "text"
      },
      "cell_type": "markdown",
      "source": [
        "뺄셈"
      ]
    },
    {
      "metadata": {
        "id": "EcvMpiW_3uc8",
        "colab_type": "code",
        "outputId": "5bd0afdf-58ec-4cbb-af66-787fbb3335e9",
        "colab": {
          "base_uri": "https://localhost:8080/",
          "height": 34
        }
      },
      "cell_type": "code",
      "source": [
        "arr1 - arr2"
      ],
      "execution_count": 30,
      "outputs": [
        {
          "output_type": "execute_result",
          "data": {
            "text/plain": [
              "array([-1.,  0.,  1.,  2.,  3.,  4.,  5.,  6.,  7.,  8.])"
            ]
          },
          "metadata": {
            "tags": []
          },
          "execution_count": 30
        }
      ]
    },
    {
      "metadata": {
        "id": "4VeKF-Sd4P0V",
        "colab_type": "text"
      },
      "cell_type": "markdown",
      "source": [
        "곱셈"
      ]
    },
    {
      "metadata": {
        "id": "x_9uuvG04I0N",
        "colab_type": "code",
        "colab": {}
      },
      "cell_type": "code",
      "source": [
        "arr2 = arr2 * 2"
      ],
      "execution_count": 0,
      "outputs": []
    },
    {
      "metadata": {
        "id": "F5-IVxTU4U0O",
        "colab_type": "code",
        "outputId": "04d4abf2-25f9-4c91-eb6e-a2fadfba8e06",
        "colab": {
          "base_uri": "https://localhost:8080/",
          "height": 34
        }
      },
      "cell_type": "code",
      "source": [
        "arr2"
      ],
      "execution_count": 32,
      "outputs": [
        {
          "output_type": "execute_result",
          "data": {
            "text/plain": [
              "array([4., 4., 4., 4., 4., 4., 4., 4., 4., 4.])"
            ]
          },
          "metadata": {
            "tags": []
          },
          "execution_count": 32
        }
      ]
    },
    {
      "metadata": {
        "id": "aEbllcjJ3yJ0",
        "colab_type": "code",
        "outputId": "90aabef0-19e4-4cc0-e9c5-6fa5fa71e597",
        "colab": {
          "base_uri": "https://localhost:8080/",
          "height": 34
        }
      },
      "cell_type": "code",
      "source": [
        "arr1 * arr2"
      ],
      "execution_count": 33,
      "outputs": [
        {
          "output_type": "execute_result",
          "data": {
            "text/plain": [
              "array([ 4.,  8., 12., 16., 20., 24., 28., 32., 36., 40.])"
            ]
          },
          "metadata": {
            "tags": []
          },
          "execution_count": 33
        }
      ]
    },
    {
      "metadata": {
        "id": "vudePBpP4aiQ",
        "colab_type": "text"
      },
      "cell_type": "markdown",
      "source": [
        "나눗셈"
      ]
    },
    {
      "metadata": {
        "id": "BmFZhAaz3zQc",
        "colab_type": "code",
        "outputId": "8dcc61b6-f27d-45ce-950c-ec6a9b3201ba",
        "colab": {
          "base_uri": "https://localhost:8080/",
          "height": 34
        }
      },
      "cell_type": "code",
      "source": [
        "arr1 / arr2"
      ],
      "execution_count": 34,
      "outputs": [
        {
          "output_type": "execute_result",
          "data": {
            "text/plain": [
              "array([0.25, 0.5 , 0.75, 1.  , 1.25, 1.5 , 1.75, 2.  , 2.25, 2.5 ])"
            ]
          },
          "metadata": {
            "tags": []
          },
          "execution_count": 34
        }
      ]
    },
    {
      "metadata": {
        "id": "yMuATKHt4prV",
        "colab_type": "text"
      },
      "cell_type": "markdown",
      "source": [
        "Z-score"
      ]
    },
    {
      "metadata": {
        "id": "HerLKIQ14dL0",
        "colab_type": "code",
        "outputId": "6101c82b-0bab-487b-ed42-4ef3af45894a",
        "colab": {
          "base_uri": "https://localhost:8080/",
          "height": 51
        }
      },
      "cell_type": "code",
      "source": [
        "(arr1 - np.mean(arr1)) / np.std(arr1)"
      ],
      "execution_count": 35,
      "outputs": [
        {
          "output_type": "execute_result",
          "data": {
            "text/plain": [
              "array([-1.5666989 , -1.21854359, -0.87038828, -0.52223297, -0.17407766,\n",
              "        0.17407766,  0.52223297,  0.87038828,  1.21854359,  1.5666989 ])"
            ]
          },
          "metadata": {
            "tags": []
          },
          "execution_count": 35
        }
      ]
    },
    {
      "metadata": {
        "id": "SBl6-ZR659qI",
        "colab_type": "text"
      },
      "cell_type": "markdown",
      "source": [
        "# 2. 파이썬 기본 문법"
      ]
    },
    {
      "metadata": {
        "id": "ecSsuYm56TFe",
        "colab_type": "text"
      },
      "cell_type": "markdown",
      "source": [
        "## Array Slice"
      ]
    },
    {
      "metadata": {
        "id": "AQvXNa2_6t9v",
        "colab_type": "code",
        "colab": {}
      },
      "cell_type": "code",
      "source": [
        "arr = np.arange(1, 26)"
      ],
      "execution_count": 0,
      "outputs": []
    },
    {
      "metadata": {
        "id": "yX9Twurx6xGP",
        "colab_type": "code",
        "outputId": "67a2621c-0757-4fc7-bec5-b9cc798a09a7",
        "colab": {
          "base_uri": "https://localhost:8080/",
          "height": 51
        }
      },
      "cell_type": "code",
      "source": [
        "arr"
      ],
      "execution_count": 37,
      "outputs": [
        {
          "output_type": "execute_result",
          "data": {
            "text/plain": [
              "array([ 1,  2,  3,  4,  5,  6,  7,  8,  9, 10, 11, 12, 13, 14, 15, 16, 17,\n",
              "       18, 19, 20, 21, 22, 23, 24, 25])"
            ]
          },
          "metadata": {
            "tags": []
          },
          "execution_count": 37
        }
      ]
    },
    {
      "metadata": {
        "id": "pi7C-MVl6xIr",
        "colab_type": "code",
        "outputId": "59eac26b-bca5-4ef7-f109-68738e707ca7",
        "colab": {
          "base_uri": "https://localhost:8080/",
          "height": 34
        }
      },
      "cell_type": "code",
      "source": [
        "arr[0]"
      ],
      "execution_count": 38,
      "outputs": [
        {
          "output_type": "execute_result",
          "data": {
            "text/plain": [
              "1"
            ]
          },
          "metadata": {
            "tags": []
          },
          "execution_count": 38
        }
      ]
    },
    {
      "metadata": {
        "id": "mGcw7wYa60tP",
        "colab_type": "code",
        "outputId": "4ad92cf7-895c-4f4a-af80-3edd931c5e67",
        "colab": {
          "base_uri": "https://localhost:8080/",
          "height": 34
        }
      },
      "cell_type": "code",
      "source": [
        "arr[0:3]"
      ],
      "execution_count": 39,
      "outputs": [
        {
          "output_type": "execute_result",
          "data": {
            "text/plain": [
              "array([1, 2, 3])"
            ]
          },
          "metadata": {
            "tags": []
          },
          "execution_count": 39
        }
      ]
    },
    {
      "metadata": {
        "id": "gO8-mMir60vz",
        "colab_type": "code",
        "outputId": "c2a6633f-700f-4ce4-c3d1-e058e27f77af",
        "colab": {
          "base_uri": "https://localhost:8080/",
          "height": 34
        }
      },
      "cell_type": "code",
      "source": [
        "arr[:3]"
      ],
      "execution_count": 40,
      "outputs": [
        {
          "output_type": "execute_result",
          "data": {
            "text/plain": [
              "array([1, 2, 3])"
            ]
          },
          "metadata": {
            "tags": []
          },
          "execution_count": 40
        }
      ]
    },
    {
      "metadata": {
        "id": "1gBGyO0060yG",
        "colab_type": "code",
        "outputId": "f678e294-cc6a-45d7-ed2a-8f6661e1927d",
        "colab": {
          "base_uri": "https://localhost:8080/",
          "height": 34
        }
      },
      "cell_type": "code",
      "source": [
        "arr[-1]"
      ],
      "execution_count": 41,
      "outputs": [
        {
          "output_type": "execute_result",
          "data": {
            "text/plain": [
              "25"
            ]
          },
          "metadata": {
            "tags": []
          },
          "execution_count": 41
        }
      ]
    },
    {
      "metadata": {
        "id": "kIolBhmj6ejN",
        "colab_type": "code",
        "colab": {}
      },
      "cell_type": "code",
      "source": [
        "arr = arr.reshape((5,5))"
      ],
      "execution_count": 0,
      "outputs": []
    },
    {
      "metadata": {
        "id": "7wYEeUgz6lru",
        "colab_type": "code",
        "outputId": "6d1d7c85-896d-4c8e-99b6-09e8d30c5f5d",
        "colab": {
          "base_uri": "https://localhost:8080/",
          "height": 102
        }
      },
      "cell_type": "code",
      "source": [
        "arr"
      ],
      "execution_count": 43,
      "outputs": [
        {
          "output_type": "execute_result",
          "data": {
            "text/plain": [
              "array([[ 1,  2,  3,  4,  5],\n",
              "       [ 6,  7,  8,  9, 10],\n",
              "       [11, 12, 13, 14, 15],\n",
              "       [16, 17, 18, 19, 20],\n",
              "       [21, 22, 23, 24, 25]])"
            ]
          },
          "metadata": {
            "tags": []
          },
          "execution_count": 43
        }
      ]
    },
    {
      "metadata": {
        "id": "KrqaHLRI6lzm",
        "colab_type": "code",
        "outputId": "74b2a7ea-67c5-422a-daaa-3c4e1258ba64",
        "colab": {
          "base_uri": "https://localhost:8080/",
          "height": 34
        }
      },
      "cell_type": "code",
      "source": [
        "arr[0, 2]"
      ],
      "execution_count": 44,
      "outputs": [
        {
          "output_type": "execute_result",
          "data": {
            "text/plain": [
              "3"
            ]
          },
          "metadata": {
            "tags": []
          },
          "execution_count": 44
        }
      ]
    },
    {
      "metadata": {
        "id": "gg6dU0c66l2A",
        "colab_type": "code",
        "outputId": "df90c081-7a6f-4dbe-c81f-160e3bfea7dd",
        "colab": {
          "base_uri": "https://localhost:8080/",
          "height": 68
        }
      },
      "cell_type": "code",
      "source": [
        "arr[1:4, 2:5]"
      ],
      "execution_count": 45,
      "outputs": [
        {
          "output_type": "execute_result",
          "data": {
            "text/plain": [
              "array([[ 8,  9, 10],\n",
              "       [13, 14, 15],\n",
              "       [18, 19, 20]])"
            ]
          },
          "metadata": {
            "tags": []
          },
          "execution_count": 45
        }
      ]
    },
    {
      "metadata": {
        "id": "IL1q6BM96A-2",
        "colab_type": "text"
      },
      "cell_type": "markdown",
      "source": [
        "## If 문"
      ]
    },
    {
      "metadata": {
        "id": "HjVx8noq4xjs",
        "colab_type": "code",
        "colab": {}
      },
      "cell_type": "code",
      "source": [
        "a = 0"
      ],
      "execution_count": 0,
      "outputs": []
    },
    {
      "metadata": {
        "id": "nLMHpsIG59VG",
        "colab_type": "code",
        "outputId": "ebd2a081-a9b6-4727-a807-9fabb7fe0374",
        "colab": {
          "base_uri": "https://localhost:8080/",
          "height": 34
        }
      },
      "cell_type": "code",
      "source": [
        "if a == 0:\n",
        "  print('ZERO')\n",
        "elif a == 1:\n",
        "  print('ONE')\n",
        "else:\n",
        "  print('OTHERS')"
      ],
      "execution_count": 47,
      "outputs": [
        {
          "output_type": "stream",
          "text": [
            "ZERO\n"
          ],
          "name": "stdout"
        }
      ]
    },
    {
      "metadata": {
        "id": "-cgY6g9i6Fq9",
        "colab_type": "text"
      },
      "cell_type": "markdown",
      "source": [
        "## Loop 문"
      ]
    },
    {
      "metadata": {
        "id": "JIyU9N5g6Qk0",
        "colab_type": "code",
        "colab": {}
      },
      "cell_type": "code",
      "source": [
        "arr = np.arange(1, 11)"
      ],
      "execution_count": 0,
      "outputs": []
    },
    {
      "metadata": {
        "id": "iVOM1PXC6VhE",
        "colab_type": "code",
        "outputId": "0a8d37eb-cf17-4537-ea90-6a1abfb4602e",
        "colab": {
          "base_uri": "https://localhost:8080/",
          "height": 187
        }
      },
      "cell_type": "code",
      "source": [
        "for a in arr:\n",
        "  print(a)"
      ],
      "execution_count": 49,
      "outputs": [
        {
          "output_type": "stream",
          "text": [
            "1\n",
            "2\n",
            "3\n",
            "4\n",
            "5\n",
            "6\n",
            "7\n",
            "8\n",
            "9\n",
            "10\n"
          ],
          "name": "stdout"
        }
      ]
    },
    {
      "metadata": {
        "id": "wMC_7v7b6d-9",
        "colab_type": "code",
        "outputId": "0610d26d-2d80-416d-834a-aebef5638a7a",
        "colab": {
          "base_uri": "https://localhost:8080/",
          "height": 187
        }
      },
      "cell_type": "code",
      "source": [
        "for a in arr:\n",
        "  if a == 1:\n",
        "    print('ONE')\n",
        "  elif 1 < a < 10:\n",
        "    print('OTHERS')\n",
        "  else:\n",
        "    print('TEN') "
      ],
      "execution_count": 50,
      "outputs": [
        {
          "output_type": "stream",
          "text": [
            "ONE\n",
            "OTHERS\n",
            "OTHERS\n",
            "OTHERS\n",
            "OTHERS\n",
            "OTHERS\n",
            "OTHERS\n",
            "OTHERS\n",
            "OTHERS\n",
            "TEN\n"
          ],
          "name": "stdout"
        }
      ]
    },
    {
      "metadata": {
        "id": "QTxitB8C8oP_",
        "colab_type": "text"
      },
      "cell_type": "markdown",
      "source": [
        "# 3. 이미지 출력"
      ]
    },
    {
      "metadata": {
        "id": "ykoucqNp81d8",
        "colab_type": "text"
      },
      "cell_type": "markdown",
      "source": [
        "## 모듈 불러오기"
      ]
    },
    {
      "metadata": {
        "id": "nMSVXCQP8hZL",
        "colab_type": "code",
        "colab": {}
      },
      "cell_type": "code",
      "source": [
        "from matplotlib import pyplot as plt\n",
        "import cv2"
      ],
      "execution_count": 0,
      "outputs": []
    },
    {
      "metadata": {
        "id": "9k0jqhsF81a1",
        "colab_type": "text"
      },
      "cell_type": "markdown",
      "source": [
        "## Array 를 이미지로 만들기"
      ]
    },
    {
      "metadata": {
        "id": "skfvoC8R9OSo",
        "colab_type": "code",
        "colab": {}
      },
      "cell_type": "code",
      "source": [
        "arr = np.arange(64).reshape((8,8))"
      ],
      "execution_count": 0,
      "outputs": []
    },
    {
      "metadata": {
        "id": "V2tp5MKG9TCr",
        "colab_type": "code",
        "outputId": "501cf947-546b-4d2c-9e60-95f41138ab22",
        "colab": {
          "base_uri": "https://localhost:8080/",
          "height": 153
        }
      },
      "cell_type": "code",
      "source": [
        "arr"
      ],
      "execution_count": 53,
      "outputs": [
        {
          "output_type": "execute_result",
          "data": {
            "text/plain": [
              "array([[ 0,  1,  2,  3,  4,  5,  6,  7],\n",
              "       [ 8,  9, 10, 11, 12, 13, 14, 15],\n",
              "       [16, 17, 18, 19, 20, 21, 22, 23],\n",
              "       [24, 25, 26, 27, 28, 29, 30, 31],\n",
              "       [32, 33, 34, 35, 36, 37, 38, 39],\n",
              "       [40, 41, 42, 43, 44, 45, 46, 47],\n",
              "       [48, 49, 50, 51, 52, 53, 54, 55],\n",
              "       [56, 57, 58, 59, 60, 61, 62, 63]])"
            ]
          },
          "metadata": {
            "tags": []
          },
          "execution_count": 53
        }
      ]
    },
    {
      "metadata": {
        "id": "nJMh3Ckc9Tha",
        "colab_type": "code",
        "outputId": "0f6ce6fa-796d-4cd3-b016-7badcef5f1ce",
        "colab": {
          "base_uri": "https://localhost:8080/",
          "height": 347
        }
      },
      "cell_type": "code",
      "source": [
        "plt.imshow(arr, vmin=0, cmap='gray')\n",
        "plt.grid(None)\n",
        "plt.show()"
      ],
      "execution_count": 54,
      "outputs": [
        {
          "output_type": "display_data",
          "data": {
            "image/png": "[encoded data removed]",
            "text/plain": [
              "<Figure size 576x396 with 1 Axes>"
            ]
          },
          "metadata": {
            "tags": []
          }
        }
      ]
    },
    {
      "metadata": {
        "id": "_b61Bo8L9dfb",
        "colab_type": "code",
        "colab": {}
      },
      "cell_type": "code",
      "source": [
        "eye = np.eye(8,8)"
      ],
      "execution_count": 0,
      "outputs": []
    },
    {
      "metadata": {
        "id": "bDnp3RuC91tb",
        "colab_type": "code",
        "outputId": "0d5b5d21-b2f3-40e3-9b09-705de18528c7",
        "colab": {
          "base_uri": "https://localhost:8080/",
          "height": 153
        }
      },
      "cell_type": "code",
      "source": [
        "eye"
      ],
      "execution_count": 56,
      "outputs": [
        {
          "output_type": "execute_result",
          "data": {
            "text/plain": [
              "array([[1., 0., 0., 0., 0., 0., 0., 0.],\n",
              "       [0., 1., 0., 0., 0., 0., 0., 0.],\n",
              "       [0., 0., 1., 0., 0., 0., 0., 0.],\n",
              "       [0., 0., 0., 1., 0., 0., 0., 0.],\n",
              "       [0., 0., 0., 0., 1., 0., 0., 0.],\n",
              "       [0., 0., 0., 0., 0., 1., 0., 0.],\n",
              "       [0., 0., 0., 0., 0., 0., 1., 0.],\n",
              "       [0., 0., 0., 0., 0., 0., 0., 1.]])"
            ]
          },
          "metadata": {
            "tags": []
          },
          "execution_count": 56
        }
      ]
    },
    {
      "metadata": {
        "id": "tw8Bsvwa92Oc",
        "colab_type": "code",
        "outputId": "4b6140cd-46a4-41b1-dda0-72d344912b2c",
        "colab": {
          "base_uri": "https://localhost:8080/",
          "height": 347
        }
      },
      "cell_type": "code",
      "source": [
        "plt.imshow(eye, vmin=0, cmap='gray')\n",
        "plt.grid(None)\n",
        "plt.show()"
      ],
      "execution_count": 57,
      "outputs": [
        {
          "output_type": "display_data",
          "data": {
            "image/png": "[encoded data removed]",
            "text/plain": [
              "<Figure size 576x396 with 1 Axes>"
            ]
          },
          "metadata": {
            "tags": []
          }
        }
      ]
    },
    {
      "metadata": {
        "id": "npIRCG3y-Dnj",
        "colab_type": "code",
        "colab": {}
      },
      "cell_type": "code",
      "source": [
        "filtered = arr * eye"
      ],
      "execution_count": 0,
      "outputs": []
    },
    {
      "metadata": {
        "id": "0xk5aCX7-Lk7",
        "colab_type": "code",
        "outputId": "2bb23321-85b7-4dac-cfe4-3d81116ab676",
        "colab": {
          "base_uri": "https://localhost:8080/",
          "height": 153
        }
      },
      "cell_type": "code",
      "source": [
        "filtered"
      ],
      "execution_count": 59,
      "outputs": [
        {
          "output_type": "execute_result",
          "data": {
            "text/plain": [
              "array([[ 0.,  0.,  0.,  0.,  0.,  0.,  0.,  0.],\n",
              "       [ 0.,  9.,  0.,  0.,  0.,  0.,  0.,  0.],\n",
              "       [ 0.,  0., 18.,  0.,  0.,  0.,  0.,  0.],\n",
              "       [ 0.,  0.,  0., 27.,  0.,  0.,  0.,  0.],\n",
              "       [ 0.,  0.,  0.,  0., 36.,  0.,  0.,  0.],\n",
              "       [ 0.,  0.,  0.,  0.,  0., 45.,  0.,  0.],\n",
              "       [ 0.,  0.,  0.,  0.,  0.,  0., 54.,  0.],\n",
              "       [ 0.,  0.,  0.,  0.,  0.,  0.,  0., 63.]])"
            ]
          },
          "metadata": {
            "tags": []
          },
          "execution_count": 59
        }
      ]
    },
    {
      "metadata": {
        "id": "oV9dCzzO-NSa",
        "colab_type": "code",
        "outputId": "cd32301f-ac62-4c5f-9d1f-af66f4cd597d",
        "colab": {
          "base_uri": "https://localhost:8080/",
          "height": 347
        }
      },
      "cell_type": "code",
      "source": [
        "plt.imshow(filtered, vmin=0, cmap='gray')\n",
        "plt.grid(None)\n",
        "plt.show()"
      ],
      "execution_count": 60,
      "outputs": [
        {
          "output_type": "display_data",
          "data": {
            "image/png": "[encoded data removed]",
            "text/plain": [
              "<Figure size 576x396 with 1 Axes>"
            ]
          },
          "metadata": {
            "tags": []
          }
        }
      ]
    },
    {
      "metadata": {
        "id": "j7o9zxZV_TuW",
        "colab_type": "text"
      },
      "cell_type": "markdown",
      "source": [
        "## 이미지 불러오기"
      ]
    },
    {
      "metadata": {
        "id": "GKIzL0Lv-QKb",
        "colab_type": "code",
        "colab": {}
      },
      "cell_type": "code",
      "source": [
        "path = r'./education/KH/dataset/dog.jpg'\n",
        "dog = cv2.imread(path, cv2.IMREAD_GRAYSCALE)"
      ],
      "execution_count": 0,
      "outputs": []
    },
    {
      "metadata": {
        "id": "_hgsvRyi_lN6",
        "colab_type": "code",
        "colab": {
          "base_uri": "https://localhost:8080/",
          "height": 350
        },
        "outputId": "04f2991d-9add-4dff-b02e-6fee7e04f1e7"
      },
      "cell_type": "code",
      "source": [
        "plt.imshow(dog, vmin=0, vmax=255, cmap='gray')\n",
        "plt.grid(None)\n",
        "plt.show()"
      ],
      "execution_count": 64,
      "outputs": [
        {
          "output_type": "display_data",
          "data": {
            "image/png": "[encoded data removed]",
            "text/plain": [
              "<Figure size 576x396 with 1 Axes>"
            ]
          },
          "metadata": {
            "tags": []
          }
        }
      ]
    },
    {
      "metadata": {
        "id": "7U8mLYzn_nBC",
        "colab_type": "code",
        "colab": {
          "base_uri": "https://localhost:8080/",
          "height": 136
        },
        "outputId": "538c78bc-efcd-40bb-c86b-d5be0d914fe8"
      },
      "cell_type": "code",
      "source": [
        "dog"
      ],
      "execution_count": 65,
      "outputs": [
        {
          "output_type": "execute_result",
          "data": {
            "text/plain": [
              "array([[255, 255, 255, ..., 254, 255, 255],\n",
              "       [255, 255, 255, ..., 254, 254, 254],\n",
              "       [255, 255, 254, ..., 255, 255, 255],\n",
              "       ...,\n",
              "       [255, 255, 255, ..., 255, 255, 255],\n",
              "       [255, 255, 255, ..., 255, 255, 255],\n",
              "       [255, 255, 255, ..., 255, 255, 255]], dtype=uint8)"
            ]
          },
          "metadata": {
            "tags": []
          },
          "execution_count": 65
        }
      ]
    },
    {
      "metadata": {
        "id": "njtEQFR8_vqq",
        "colab_type": "code",
        "colab": {
          "base_uri": "https://localhost:8080/",
          "height": 34
        },
        "outputId": "6b5c24f1-49f9-4d1a-9527-409908feb722"
      },
      "cell_type": "code",
      "source": [
        "dog.shape"
      ],
      "execution_count": 66,
      "outputs": [
        {
          "output_type": "execute_result",
          "data": {
            "text/plain": [
              "(350, 350)"
            ]
          },
          "metadata": {
            "tags": []
          },
          "execution_count": 66
        }
      ]
    },
    {
      "metadata": {
        "id": "76UiEuC1CWMW",
        "colab_type": "text"
      },
      "cell_type": "markdown",
      "source": [
        "## 이미지 변환하기"
      ]
    },
    {
      "metadata": {
        "id": "upyoVdDc_xVa",
        "colab_type": "code",
        "colab": {
          "base_uri": "https://localhost:8080/",
          "height": 349
        },
        "outputId": "726fd5cb-635b-4759-da2a-fde28a51ad2b"
      },
      "cell_type": "code",
      "source": [
        "plt.imshow(dog[100:200,100:200], vmin=0, vmax=255, cmap='gray')\n",
        "plt.grid(None)\n",
        "plt.show()"
      ],
      "execution_count": 71,
      "outputs": [
        {
          "output_type": "display_data",
          "data": {
            "image/png": "[encoded data removed]",
            "text/plain": [
              "<Figure size 576x396 with 1 Axes>"
            ]
          },
          "metadata": {
            "tags": []
          }
        }
      ]
    },
    {
      "metadata": {
        "id": "4QhDD6qp_7Ha",
        "colab_type": "code",
        "colab": {
          "base_uri": "https://localhost:8080/",
          "height": 350
        },
        "outputId": "432aba65-d55c-47b8-a7f7-e8018bf0acbc"
      },
      "cell_type": "code",
      "source": [
        "plt.imshow(dog / 2, vmin=0, vmax=255, cmap='gray')\n",
        "plt.grid(None)\n",
        "plt.show()"
      ],
      "execution_count": 72,
      "outputs": [
        {
          "output_type": "display_data",
          "data": {
            "image/png": "[encoded data removed]",
            "text/plain": [
              "<Figure size 576x396 with 1 Axes>"
            ]
          },
          "metadata": {
            "tags": []
          }
        }
      ]
    },
    {
      "metadata": {
        "id": "6Xw1lbh0Cbm0",
        "colab_type": "text"
      },
      "cell_type": "markdown",
      "source": [
        "## 필터 씌우기"
      ]
    },
    {
      "metadata": {
        "id": "riszzokSAYbB",
        "colab_type": "code",
        "colab": {}
      },
      "cell_type": "code",
      "source": [
        "arr = np.empty(350 * 350)\n",
        "\n",
        "for idx in range(350 * 350):\n",
        "  if idx % 2 == 0 :\n",
        "    arr[idx] = 0\n",
        "  else:\n",
        "    arr[idx] = 1"
      ],
      "execution_count": 0,
      "outputs": []
    },
    {
      "metadata": {
        "id": "ryChIsMEBbBy",
        "colab_type": "code",
        "colab": {
          "base_uri": "https://localhost:8080/",
          "height": 136
        },
        "outputId": "74dc7df5-96e2-4299-a89a-08a5da48ff3b"
      },
      "cell_type": "code",
      "source": [
        "arr = arr.reshape((350, 350))\n",
        "arr"
      ],
      "execution_count": 83,
      "outputs": [
        {
          "output_type": "execute_result",
          "data": {
            "text/plain": [
              "array([[0., 1., 0., ..., 1., 0., 1.],\n",
              "       [0., 1., 0., ..., 1., 0., 1.],\n",
              "       [0., 1., 0., ..., 1., 0., 1.],\n",
              "       ...,\n",
              "       [0., 1., 0., ..., 1., 0., 1.],\n",
              "       [0., 1., 0., ..., 1., 0., 1.],\n",
              "       [0., 1., 0., ..., 1., 0., 1.]])"
            ]
          },
          "metadata": {
            "tags": []
          },
          "execution_count": 83
        }
      ]
    },
    {
      "metadata": {
        "id": "m9dDssgABfEZ",
        "colab_type": "code",
        "colab": {
          "base_uri": "https://localhost:8080/",
          "height": 350
        },
        "outputId": "b5153438-b022-4ddc-a499-a8151a675c4c"
      },
      "cell_type": "code",
      "source": [
        "plt.imshow(arr, vmin=0, vmax=1, cmap='gray')\n",
        "plt.grid(None)\n",
        "plt.show()"
      ],
      "execution_count": 84,
      "outputs": [
        {
          "output_type": "display_data",
          "data": {
            "image/png": "[encoded data removed]",
            "text/plain": [
              "<Figure size 576x396 with 1 Axes>"
            ]
          },
          "metadata": {
            "tags": []
          }
        }
      ]
    },
    {
      "metadata": {
        "id": "nuNhCs9hBf6x",
        "colab_type": "code",
        "colab": {
          "base_uri": "https://localhost:8080/",
          "height": 350
        },
        "outputId": "c6344321-ba16-4dc7-f4dd-f7b9d743bc67"
      },
      "cell_type": "code",
      "source": [
        "plt.imshow(dog * arr, vmin=0, vmax=255, cmap='gray')\n",
        "plt.grid(None)\n",
        "plt.show()"
      ],
      "execution_count": 85,
      "outputs": [
        {
          "output_type": "display_data",
          "data": {
            "image/png": "[encoded data removed]",
            "text/plain": [
              "<Figure size 576x396 with 1 Axes>"
            ]
          },
          "metadata": {
            "tags": []
          }
        }
      ]
    },
    {
      "metadata": {
        "id": "gr5l-trLCieE",
        "colab_type": "text"
      },
      "cell_type": "markdown",
      "source": [
        "# 4. Dicom 파일"
      ]
    },
    {
      "metadata": {
        "id": "CmYOeDjrCxw4",
        "colab_type": "text"
      },
      "cell_type": "markdown",
      "source": [
        "## 모듈 불러오기"
      ]
    },
    {
      "metadata": {
        "id": "CWCLowAuCEKZ",
        "colab_type": "code",
        "colab": {}
      },
      "cell_type": "code",
      "source": [
        "!pip install -q pydicom\n",
        "import pydicom as pdc\n",
        "from pydicom.data import get_testdata_files"
      ],
      "execution_count": 0,
      "outputs": []
    },
    {
      "metadata": {
        "id": "74jrHoBtC1Gp",
        "colab_type": "code",
        "colab": {}
      },
      "cell_type": "code",
      "source": [
        "path = get_testdata_files('CT_small.dcm')[0]"
      ],
      "execution_count": 0,
      "outputs": []
    },
    {
      "metadata": {
        "id": "qteoupO7DJrB",
        "colab_type": "code",
        "colab": {}
      },
      "cell_type": "code",
      "source": [
        "dcm = pdc.dcmread(path)"
      ],
      "execution_count": 0,
      "outputs": []
    },
    {
      "metadata": {
        "id": "3SxW3KsKDMPp",
        "colab_type": "code",
        "colab": {
          "base_uri": "https://localhost:8080/",
          "height": 4386
        },
        "outputId": "270b451f-3af7-4eb8-c30e-8315c127b3cd"
      },
      "cell_type": "code",
      "source": [
        "dcm"
      ],
      "execution_count": 131,
      "outputs": [
        {
          "output_type": "execute_result",
          "data": {
            "text/plain": [
              "(0008, 0005) Specific Character Set              CS: 'ISO_IR 100'\n",
              "(0008, 0008) Image Type                          CS: ['ORIGINAL', 'PRIMARY', 'AXIAL']\n",
              "(0008, 0012) Instance Creation Date              DA: '20040119'\n",
              "(0008, 0013) Instance Creation Time              TM: '072731'\n",
              "(0008, 0014) Instance Creator UID                UI: 1.3.6.1.4.1.5962.3\n",
              "(0008, 0016) SOP Class UID                       UI: CT Image Storage\n",
              "(0008, 0018) SOP Instance UID                    UI: 1.3.6.1.4.1.5962.1.1.1.1.1.20040119072730.12322\n",
              "(0008, 0020) Study Date                          DA: '20040119'\n",
              "(0008, 0021) Series Date                         DA: '19970430'\n",
              "(0008, 0022) Acquisition Date                    DA: '19970430'\n",
              "(0008, 0023) Content Date                        DA: '19970430'\n",
              "(0008, 0030) Study Time                          TM: '072730'\n",
              "(0008, 0031) Series Time                         TM: '112749'\n",
              "(0008, 0032) Acquisition Time                    TM: '112936'\n",
              "(0008, 0033) Content Time                        TM: '113008'\n",
              "(0008, 0050) Accession Number                    SH: ''\n",
              "(0008, 0060) Modality                            CS: 'CT'\n",
              "(0008, 0070) Manufacturer                        LO: 'GE MEDICAL SYSTEMS'\n",
              "(0008, 0080) Institution Name                    LO: 'JFK IMAGING CENTER'\n",
              "(0008, 0090) Referring Physician's Name          PN: ''\n",
              "(0008, 0201) Timezone Offset From UTC            SH: '-0500'\n",
              "(0008, 1010) Station Name                        SH: 'CT01_OC0'\n",
              "(0008, 1030) Study Description                   LO: 'e+1'\n",
              "(0008, 1090) Manufacturer's Model Name           LO: 'RHAPSODE'\n",
              "(0009, 0010) Private Creator                     LO: 'GEMS_IDEN_01'\n",
              "(0009, 1001) [Full fidelity]                     LO: 'GE_GENESIS_FF'\n",
              "(0009, 1002) [Suite id]                          SH: 'CT01'\n",
              "(0009, 1004) [Product id]                        SH: 'HiSpeed CT/i'\n",
              "(0009, 1027) [Image actual date]                 SL: 862399669\n",
              "(0009, 1030) [Service id]                        SH: ''\n",
              "(0009, 1031) [Mobile location number]            SH: ''\n",
              "(0009, 10e6) [Genesis Version - now]             SH: '05'\n",
              "(0009, 10e7) [Exam Record checksum]              UL: 973283917\n",
              "(0009, 10e9) [Actual series data time stamp]     SL: 862399669\n",
              "(0010, 0010) Patient's Name                      PN: 'CompressedSamples^CT1'\n",
              "(0010, 0020) Patient ID                          LO: '1CT1'\n",
              "(0010, 0030) Patient's Birth Date                DA: ''\n",
              "(0010, 0040) Patient's Sex                       CS: 'O'\n",
              "(0010, 1010) Patient's Age                       AS: '000Y'\n",
              "(0010, 1030) Patient's Weight                    DS: \"0.000000\"\n",
              "(0010, 21b0) Additional Patient History          LT: ''\n",
              "(0011, 0010) Private Creator                     LO: 'GEMS_PATI_01'\n",
              "(0011, 1010) [Patient Status]                    SS: 0\n",
              "(0018, 0010) Contrast/Bolus Agent                LO: 'ISOVUE300/100'\n",
              "(0018, 0022) Scan Options                        CS: 'HELICAL MODE'\n",
              "(0018, 0050) Slice Thickness                     DS: \"5.000000\"\n",
              "(0018, 0060) KVP                                 DS: \"120\"\n",
              "(0018, 0088) Spacing Between Slices              DS: \"5.000000\"\n",
              "(0018, 0090) Data Collection Diameter            DS: \"480.000000\"\n",
              "(0018, 1020) Software Version(s)                 LO: '05'\n",
              "(0018, 1040) Contrast/Bolus Route                LO: 'IV'\n",
              "(0018, 1100) Reconstruction Diameter             DS: \"338.671600\"\n",
              "(0018, 1110) Distance Source to Detector         DS: \"1099.3100585938\"\n",
              "(0018, 1111) Distance Source to Patient          DS: \"630.000000\"\n",
              "(0018, 1120) Gantry/Detector Tilt                DS: \"0.000000\"\n",
              "(0018, 1130) Table Height                        DS: \"133.699997\"\n",
              "(0018, 1150) Exposure Time                       IS: \"1601\"\n",
              "(0018, 1151) X-Ray Tube Current                  IS: \"170\"\n",
              "(0018, 1152) Exposure                            IS: \"170\"\n",
              "(0018, 1160) Filter Type                         SH: 'LARGE BOWTIE FIL'\n",
              "(0018, 1190) Focal Spot(s)                       DS: \"0.700000\"\n",
              "(0018, 1210) Convolution Kernel                  SH: 'STANDARD'\n",
              "(0018, 5100) Patient Position                    CS: 'FFS'\n",
              "(0019, 0010) Private Creator                     LO: 'GEMS_ACQU_01'\n",
              "(0019, 1002) [Detector Channel]                  SL: 912\n",
              "(0019, 1003) [Cell number at Theta]              DS: \"373.750000\"\n",
              "(0019, 1004) [Cell spacing]                      DS: \"1.016600\"\n",
              "(0019, 100f) [Horiz. Frame of ref.]              DS: \"955.799988\"\n",
              "(0019, 1011) [Series contrast]                   SS: 2\n",
              "(0019, 1013) [Start number for baseline]         SS: 0\n",
              "(0019, 1014) [End number for baseline]           SS: 0\n",
              "(0019, 1015) [Start number for enhanced scans]   SS: 0\n",
              "(0019, 1016) [End number for enhanced scans]     SS: 0\n",
              "(0019, 1017) [Series plane]                      SS: 2\n",
              "(0019, 1018) [First scan ras]                    LO: 'S'\n",
              "(0019, 1019) [First scan location]               DS: \"7.791870\"\n",
              "(0019, 101a) [Last scan ras]                     LO: 'I'\n",
              "(0019, 101b) [Last scan loc]                     DS: \"-320.197968\"\n",
              "(0019, 101e) [Display field of view]             DS: \"0.000000\"\n",
              "(0019, 1023) [Table Speed [mm/rotation]]         DS: \"5.000000\"\n",
              "(0019, 1024) [Mid Scan Time [sec]]               DS: \"17.784578\"\n",
              "(0019, 1025) [Mid scan flag]                     SS: 1\n",
              "(0019, 1026) [Tube Azimuth [degree]]             SL: 0\n",
              "(0019, 1027) [Rotation Speed [msec]]             DS: \"1.000000\"\n",
              "(0019, 102a) [x-ray On position]                 DS: \"178.079926\"\n",
              "(0019, 102b) [x-ray Off position]                DS: \"3994.299316\"\n",
              "(0019, 102c) [Number of triggers]                SL: 10431\n",
              "(0019, 102e) [Angle of first view]               DS: \"-718.079956\"\n",
              "(0019, 102f) [Trigger frequency]                 DS: \"984.000000\"\n",
              "(0019, 1039) [SFOV Type]                         SS: 16\n",
              "(0019, 1040) [Stat recon flag]                   SS: 0\n",
              "(0019, 1041) [Compute type]                      SS: 1\n",
              "(0019, 1042) [Segment Number]                    SS: 0\n",
              "(0019, 1043) [Total Segments Required]           SS: 0\n",
              "(0019, 1044) [Interscan delay]                   DS: \"1.000000\"\n",
              "(0019, 1047) [View compression factor]           SS: 1\n",
              "(0019, 104a) [Total no. of ref channels]         SS: 6\n",
              "(0019, 104b) [Data size for scan data]           SL: 10431\n",
              "(0019, 1052) [Recon post proc. Flag]             SS: 1\n",
              "(0019, 1057) [CT water number]                   SS: -95\n",
              "(0019, 1058) [CT bone number]                    SS: 0\n",
              "(0019, 105e) [Number of channels (1...512)]      SL: 763\n",
              "(0019, 105f) [Increment between channels]        SL: 1\n",
              "(0019, 1060) [Starting view]                     SL: 1969\n",
              "(0019, 1061) [Number of views]                   SL: 1576\n",
              "(0019, 1062) [Increment between views]           SL: 1\n",
              "(0019, 106a) [Dependent on #views processed]     SS: 4\n",
              "(0019, 106b) [Field of view in detector cells]   SS: 852\n",
              "(0019, 1070) [Value of back projection button]   SS: 1\n",
              "(0019, 1071) [Set if fatq estimates were used]   SS: 0\n",
              "(0019, 1072) [Z chan avg over views]             DS: \"0.000000\"\n",
              "(0019, 1073) [Avg of left ref chans over views]  DS: \"0.000000\"\n",
              "(0019, 1074) [Max left chan over views]          DS: \"0.000000\"\n",
              "(0019, 1075) [Avg of right ref chans over views] DS: \"0.000000\"\n",
              "(0019, 1076) [Max right chan over views]         DS: \"0.000000\"\n",
              "(0019, 10da) [Reference channel used]            SS: 0\n",
              "(0019, 10db) [Back projector coefficient]        DS: \"0.000000\"\n",
              "(0019, 10dc) [Primary speed correction used]     SS: 1\n",
              "(0019, 10dd) [Overrange correction used]         SS: 1\n",
              "(0019, 10de) [Dynamic Z alpha value]             DS: \"0.000000\"\n",
              "(0020, 000d) Study Instance UID                  UI: 1.3.6.1.4.1.5962.1.2.1.20040119072730.12322\n",
              "(0020, 000e) Series Instance UID                 UI: 1.3.6.1.4.1.5962.1.3.1.1.20040119072730.12322\n",
              "(0020, 0010) Study ID                            SH: '1CT1'\n",
              "(0020, 0011) Series Number                       IS: \"1\"\n",
              "(0020, 0012) Acquisition Number                  IS: \"2\"\n",
              "(0020, 0013) Instance Number                     IS: \"1\"\n",
              "(0020, 0032) Image Position (Patient)            DS: ['-158.135803', '-179.035797', '-75.699997']\n",
              "(0020, 0037) Image Orientation (Patient)         DS: ['1.000000', '0.000000', '0.000000', '0.000000', '1.000000', '0.000000']\n",
              "(0020, 0052) Frame of Reference UID              UI: 1.3.6.1.4.1.5962.1.4.1.1.20040119072730.12322\n",
              "(0020, 0060) Laterality                          CS: ''\n",
              "(0020, 1040) Position Reference Indicator        LO: 'SN'\n",
              "(0020, 1041) Slice Location                      DS: \"-77.2040634155\"\n",
              "(0020, 4000) Image Comments                      LT: 'Uncompressed'\n",
              "(0021, 0010) Private Creator                     LO: 'GEMS_RELA_01'\n",
              "(0021, 1003) [Series from which Prescribed]      SS: 2\n",
              "(0021, 1005) [Genesis Version - now]             SH: '05'\n",
              "(0021, 1007) [Series Record checksum]            UL: 1605775145\n",
              "(0021, 1015) [Unknown]                           US: 24078\n",
              "(0021, 1016) [Unknown]                           SS: 2\n",
              "(0021, 1018) [Genesis version - Now]             SH: '05'\n",
              "(0021, 1019) [Acq recon record checksum]         UL: 750675506\n",
              "(0021, 1037) [Screen Format]                     SS: 16\n",
              "(0021, 104a) [Anatomical reference for scout]    LO: ''\n",
              "(0021, 1090) [Tube focal spot position]          SS: 7400\n",
              "(0021, 1091) [Biopsy position]                   SS: 0\n",
              "(0021, 1092) [Biopsy T location]                 FL: 0.0\n",
              "(0021, 1093) [Biopsy ref location]               FL: 0.0\n",
              "(0023, 0010) Private Creator                     LO: 'GEMS_STDY_01'\n",
              "(0023, 1070) [Start time(secs) in first axial]   FD: 862399761.111079\n",
              "(0023, 1074) [No. of updates to header]          SL: 1\n",
              "(0023, 107d) [Indicates study has complete info  SS: 0\n",
              "(0025, 0010) Private Creator                     LO: 'GEMS_SERS_01'\n",
              "(0025, 1006) [Last pulse sequence used]          SS: 0\n",
              "(0025, 1007) [Images in Series]                  SL: 44\n",
              "(0025, 1010) [Landmark Counter]                  SL: 0\n",
              "(0025, 1011) [Number of Acquisitions]            SS: 0\n",
              "(0025, 1017) [Series Complete Flag]              SL: 0\n",
              "(0025, 1018) [Number of images archived]         SL: 0\n",
              "(0025, 1019) [Last image number used]            SL: 4\n",
              "(0025, 101a) [Primary Receiver Suite and Host]   SH: ''\n",
              "(0027, 0010) Private Creator                     LO: 'GEMS_IMAG_01'\n",
              "(0027, 1006) [Image archive flag]                SL: 1\n",
              "(0027, 1010) [Scout Type]                        SS: 0\n",
              "(0027, 101c) [Vma mamp]                          SL: 150\n",
              "(0027, 101d) [Vma phase]                         SS: 1\n",
              "(0027, 101e) [Vma mod]                           SL: 24\n",
              "(0027, 101f) [Vma clip]                          SL: 129\n",
              "(0027, 1020) [Smart scan ON/OFF flag]            SS: 1\n",
              "(0027, 1030) [Foreign Image Revision]            SH: ''\n",
              "(0027, 1035) [Plane Type]                        SS: 2\n",
              "(0027, 1040) [RAS letter of image location]      SH: 'I'\n",
              "(0027, 1041) [Image location]                    FL: -77.20406341552734\n",
              "(0027, 1042) [Center R coord of plane image]     FL: -11.199999809265137\n",
              "(0027, 1043) [Center A coord of plane image]     FL: 9.699999809265137\n",
              "(0027, 1044) [Center S coord of plane image]     FL: -75.69999694824219\n",
              "(0027, 1045) [Normal R coord]                    FL: 0.0\n",
              "(0027, 1046) [Normal A coord]                    FL: 0.0\n",
              "(0027, 1047) [Normal S coord]                    FL: -1.0\n",
              "(0027, 1048) [R Coord of Top Right Corner]       FL: -180.53579711914062\n",
              "(0027, 1049) [A Coord of Top Right Corner]       FL: 179.03579711914062\n",
              "(0027, 104a) [S Coord of Top Right Corner]       FL: -75.69999694824219\n",
              "(0027, 104b) [R Coord of Bottom Right Corner]    FL: -180.53579711914062\n",
              "(0027, 104c) [A Coord of Bottom Right Corner]    FL: -159.63580322265625\n",
              "(0027, 104d) [S Coord of Bottom Right Corner]    FL: -75.69999694824219\n",
              "(0027, 1050) [Scan Start Location]               FL: -63.19999694824219\n",
              "(0027, 1051) [Scan End Location]                 FL: -116.20304870605469\n",
              "(0027, 1052) [RAS letter for side of image]      SH: 'L'\n",
              "(0027, 1053) [RAS letter for anterior/posterior] SH: 'A'\n",
              "(0027, 1054) [RAS letter for scout start loc]    SH: 'I'\n",
              "(0027, 1055) [RAS letter for scout end loc]      SH: 'I'\n",
              "(0028, 0002) Samples per Pixel                   US: 1\n",
              "(0028, 0004) Photometric Interpretation          CS: 'MONOCHROME2'\n",
              "(0028, 0010) Rows                                US: 128\n",
              "(0028, 0011) Columns                             US: 128\n",
              "(0028, 0030) Pixel Spacing                       DS: ['0.661468', '0.661468']\n",
              "(0028, 0100) Bits Allocated                      US: 16\n",
              "(0028, 0101) Bits Stored                         US: 16\n",
              "(0028, 0102) High Bit                            US: 15\n",
              "(0028, 0103) Pixel Representation                US: 1\n",
              "(0028, 0120) Pixel Padding Value                 SS: -2000\n",
              "(0028, 1052) Rescale Intercept                   DS: \"-1024\"\n",
              "(0028, 1053) Rescale Slope                       DS: \"1\"\n",
              "(0029, 0010) Private Creator                     LO: 'GEMS_IMPS_01'\n",
              "(0029, 1004) [Lower range of Pixels1]            SL: 0\n",
              "(0029, 1005) [Lower range of Pixels1]            DS: \"0.000000\"\n",
              "(0029, 1006) [Lower range of Pixels1]            DS: \"0.000000\"\n",
              "(0029, 1007) [Lower range of Pixels1]            SL: 87\n",
              "(0029, 1008) [Lower range of Pixels1]            SH: ''\n",
              "(0029, 1009) [Lower range of Pixels1]            SH: ''\n",
              "(0029, 100a) [Lower range of Pixels1]            SS: 764\n",
              "(0029, 1026) [Version of the hdr struct]         SS: 2\n",
              "(0029, 1034) [Advantage comp. Overflow]          SL: 0\n",
              "(0029, 1035) [Advantage comp. Underflow]         SL: 0\n",
              "(0043, 0010) Private Creator                     LO: 'GEMS_PARM_01'\n",
              "(0043, 1010) [Window value]                      US: 400\n",
              "(0043, 1011) [Total input views]                 US: 10431\n",
              "(0043, 1012) [X-ray chain]                       SS: [14, 2, 3]\n",
              "(0043, 1013) [Decon kernel parameters]           SS: [107, 21, 4, 2, 20]\n",
              "(0043, 1014) [Calibration parameters]            SS: [4, 4, 5]\n",
              "(0043, 1015) [Total output views]                SS: 10431\n",
              "(0043, 1016) [Number of overranges]              SS: 0\n",
              "(0043, 1017) [IBH image scale factors]           DS: \"0.095000\"\n",
              "(0043, 1018) [BBH coefficients]                  DS: ['0.085000', '1.102000', '0.095000']\n",
              "(0043, 1019) [Number of BBH chains to blend]     SS: 350\n",
              "(0043, 101a) [Starting channel number]           SL: 7\n",
              "(0043, 101b) [Ppscan parameters]                 SS: [0, 0, 0, 0, 0]\n",
              "(0043, 101c) [GE image integrity]                SS: 0\n",
              "(0043, 101d) [Level value]                       SS: 40\n",
              "(0043, 101e) [Delta Start Time [msec]]           DS: \"2.000000\"\n",
              "(0043, 101f) [Max overranges in a view]          SL: 0\n",
              "(0043, 1020) [Avg overranges all views]          DS: \"0.000000\"\n",
              "(0043, 1021) [Corrected after glow terms]        SS: 0\n",
              "(0043, 1025) [Reference channels]                SS: [1, 2, 3, 748, 749, 750]\n",
              "(0043, 1026) [No views ref chans blocked]        US: [0, 1, 1, 0, 0, 0]\n",
              "(0043, 1027) [Scan Pitch Ratio]                  SH: '/1.0:1'\n",
              "(0043, 1028) [Unique image iden]                 OB: Array of 80 bytes\n",
              "(0043, 1029) [Histogram tables]                  OB: Array of 2068 bytes\n",
              "(0043, 102a) [User defined data]                 OB: Array of 40 bytes\n",
              "(0043, 102b) [Private Scan Options]              SS: [4, 4, 0, 0]\n",
              "(0043, 1031) [Recon Center Coordinates]          DS: ['-11.200000', '9.700000']\n",
              "(0043, 1040) [Trigger on position]               FL: 178.07992553710938\n",
              "(0043, 1041) [Degree of rotation]                FL: 3816.219482421875\n",
              "(0043, 1042) [DAS trigger source]                SL: 0\n",
              "(0043, 1043) [DAS fpa gain]                      SL: 0\n",
              "(0043, 1044) [DAS output source]                 SL: 1\n",
              "(0043, 1045) [DAS ad input]                      SL: 1\n",
              "(0043, 1046) [DAS cal mode]                      SL: 3\n",
              "(0043, 1047) [DAS cal frequency]                 SL: -1\n",
              "(0043, 1048) [DAS reg xm]                        SL: 1\n",
              "(0043, 1049) [DAS auto zero]                     SL: 0\n",
              "(0043, 104a) [Starting channel of view]          SS: 1\n",
              "(0043, 104b) [DAS xm pattern]                    SL: 0\n",
              "(0043, 104c) [TGGC trigger mode]                 SS: 0\n",
              "(0043, 104d) [Start scan to X-ray on delay]      FL: 0.0\n",
              "(0043, 104e) [Duration of X-ray on]              FL: 10.60060977935791\n",
              "(7fe0, 0010) Pixel Data                          OW: Array of 32768 bytes\n",
              "(fffc, fffc) Data Set Trailing Padding           OB: Array of 126 bytes"
            ]
          },
          "metadata": {
            "tags": []
          },
          "execution_count": 131
        }
      ]
    },
    {
      "metadata": {
        "id": "dyWEa6XSKrED",
        "colab_type": "text"
      },
      "cell_type": "markdown",
      "source": [
        "## 헤더값 접근하기"
      ]
    },
    {
      "metadata": {
        "id": "E4TFAO4ZKUgt",
        "colab_type": "code",
        "colab": {
          "base_uri": "https://localhost:8080/",
          "height": 34
        },
        "outputId": "c2c42670-ca60-44b7-b6f4-7eec3f9c9b16"
      },
      "cell_type": "code",
      "source": [
        "dcm.PatientName"
      ],
      "execution_count": 137,
      "outputs": [
        {
          "output_type": "execute_result",
          "data": {
            "text/plain": [
              "'CompressedSamples^CT1'"
            ]
          },
          "metadata": {
            "tags": []
          },
          "execution_count": 137
        }
      ]
    },
    {
      "metadata": {
        "id": "HS1CXEddKYR0",
        "colab_type": "code",
        "colab": {
          "base_uri": "https://localhost:8080/",
          "height": 34
        },
        "outputId": "308c7df2-bfb2-4693-bb91-bfb021c1f346"
      },
      "cell_type": "code",
      "source": [
        "dcm.PixelSpacing"
      ],
      "execution_count": 139,
      "outputs": [
        {
          "output_type": "execute_result",
          "data": {
            "text/plain": [
              "['0.661468', '0.661468']"
            ]
          },
          "metadata": {
            "tags": []
          },
          "execution_count": 139
        }
      ]
    },
    {
      "metadata": {
        "id": "hkWqz7sIKck2",
        "colab_type": "code",
        "colab": {
          "base_uri": "https://localhost:8080/",
          "height": 34
        },
        "outputId": "3068373c-e0aa-4f9c-ef91-73af8dd9ee0e"
      },
      "cell_type": "code",
      "source": [
        "dcm.StudyDescription"
      ],
      "execution_count": 140,
      "outputs": [
        {
          "output_type": "execute_result",
          "data": {
            "text/plain": [
              "'e+1'"
            ]
          },
          "metadata": {
            "tags": []
          },
          "execution_count": 140
        }
      ]
    },
    {
      "metadata": {
        "id": "TSG2xh7XKtjC",
        "colab_type": "text"
      },
      "cell_type": "markdown",
      "source": [
        "## 픽셀 데이터 추출하기"
      ]
    },
    {
      "metadata": {
        "id": "myCYdxUZDMqh",
        "colab_type": "code",
        "colab": {}
      },
      "cell_type": "code",
      "source": [
        "dcm_img = dcm.pixel_array"
      ],
      "execution_count": 0,
      "outputs": []
    },
    {
      "metadata": {
        "id": "eUmSueAxDP-h",
        "colab_type": "code",
        "colab": {
          "base_uri": "https://localhost:8080/",
          "height": 136
        },
        "outputId": "36ef7026-a2a1-46ea-b02a-6298cc788af2"
      },
      "cell_type": "code",
      "source": [
        "dcm_img"
      ],
      "execution_count": 134,
      "outputs": [
        {
          "output_type": "execute_result",
          "data": {
            "text/plain": [
              "array([[175, 180, 166, ..., 203, 207, 216],\n",
              "       [186, 183, 157, ..., 181, 190, 239],\n",
              "       [184, 180, 171, ..., 152, 164, 235],\n",
              "       ...,\n",
              "       [906, 910, 923, ..., 922, 929, 927],\n",
              "       [914, 954, 938, ..., 942, 925, 905],\n",
              "       [959, 955, 916, ..., 911, 904, 909]], dtype=int16)"
            ]
          },
          "metadata": {
            "tags": []
          },
          "execution_count": 134
        }
      ]
    },
    {
      "metadata": {
        "id": "E1UcC5GbKkG8",
        "colab_type": "code",
        "colab": {
          "base_uri": "https://localhost:8080/",
          "height": 34
        },
        "outputId": "f9b4f662-208b-419f-b274-e83f8d5400a8"
      },
      "cell_type": "code",
      "source": [
        "dcm_img.shape"
      ],
      "execution_count": 141,
      "outputs": [
        {
          "output_type": "execute_result",
          "data": {
            "text/plain": [
              "(128, 128)"
            ]
          },
          "metadata": {
            "tags": []
          },
          "execution_count": 141
        }
      ]
    },
    {
      "metadata": {
        "id": "hCGknZFGKv4e",
        "colab_type": "text"
      },
      "cell_type": "markdown",
      "source": [
        "## Dicom 파일 이미지 출력하기"
      ]
    },
    {
      "metadata": {
        "id": "FJgkbO2SHHN3",
        "colab_type": "code",
        "colab": {
          "base_uri": "https://localhost:8080/",
          "height": 350
        },
        "outputId": "2f30bcf0-6231-4add-da0f-c4f67989f4a0"
      },
      "cell_type": "code",
      "source": [
        "plt.imshow(dcm_img, cmap='bone')\n",
        "plt.grid(None)\n",
        "plt.show()"
      ],
      "execution_count": 142,
      "outputs": [
        {
          "output_type": "display_data",
          "data": {
            "image/png": "[encoded data removed]",
            "text/plain": [
              "<Figure size 576x396 with 1 Axes>"
            ]
          },
          "metadata": {
            "tags": []
          }
        }
      ]
    }
  ]
}