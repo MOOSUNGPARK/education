{
  "nbformat": 4,
  "nbformat_minor": 0,
  "metadata": {
    "colab": {
      "name": "segmentation_lung_cancer.ipynb",
      "version": "0.3.2",
      "provenance": [],
      "collapsed_sections": [],
      "include_colab_link": true
    },
    "kernelspec": {
      "name": "python3",
      "display_name": "Python 3"
    }
  },
  "cells": [
    {
      "cell_type": "markdown",
      "metadata": {
        "id": "view-in-github",
        "colab_type": "text"
      },
      "source": [
        "<a href=\"https://colab.research.google.com/github/MOOSUNGPARK/education/blob/master/segmentation_lung_cancer.ipynb\" target=\"_parent\"><img src=\"https://colab.research.google.com/assets/colab-badge.svg\" alt=\"Open In Colab\"/></a>"
      ]
    },
    {
      "metadata": {
        "id": "T7xiiLh3lEmE",
        "colab_type": "code",
        "colab": {
          "base_uri": "https://localhost:8080/",
          "height": 136
        },
        "outputId": "026a629b-ee6e-4096-b7b9-e6477585b4d8"
      },
      "cell_type": "code",
      "source": [
        "!git clone https://github.com/MOOSUNGPARK/education.git"
      ],
      "execution_count": 1,
      "outputs": [
        {
          "output_type": "stream",
          "text": [
            "Cloning into 'education'...\n",
            "remote: Enumerating objects: 123, done.\u001b[K\n",
            "remote: Counting objects: 100% (123/123), done.\u001b[K\n",
            "remote: Compressing objects: 100% (121/121), done.\u001b[K\n",
            "remote: Total 221 (delta 53), reused 0 (delta 0), pack-reused 98\u001b[K\n",
            "Receiving objects: 100% (221/221), 33.09 MiB | 13.26 MiB/s, done.\n",
            "Resolving deltas: 100% (53/53), done.\n"
          ],
          "name": "stdout"
        }
      ]
    },
    {
      "metadata": {
        "id": "OjvF0HUNnvTH",
        "colab_type": "text"
      },
      "cell_type": "markdown",
      "source": [
        "# 모듈 불러오기"
      ]
    },
    {
      "metadata": {
        "id": "9iOGC0u4lMQJ",
        "colab_type": "code",
        "colab": {}
      },
      "cell_type": "code",
      "source": [
        "from keras.models import Model\n",
        "from keras.layers import *\n",
        "from keras.optimizers import Adam\n",
        "from keras.regularizers import l2\n",
        "from keras.preprocessing.image import ImageDataGenerator\n",
        "from keras.callbacks import LearningRateScheduler, ModelCheckpoint\n",
        "from sklearn.preprocessing import scale\n",
        "from sklearn.model_selection import train_test_split\n",
        "import keras.backend as K\n",
        "import os\n",
        "import numpy as np\n",
        "import cv2\n",
        "import matplotlib.pyplot as plt\n",
        "import glob"
      ],
      "execution_count": 0,
      "outputs": []
    },
    {
      "metadata": {
        "id": "Y7QIJgl2nyeb",
        "colab_type": "text"
      },
      "cell_type": "markdown",
      "source": [
        "# **경로 설정하기**"
      ]
    },
    {
      "metadata": {
        "id": "8M-douaJlUS8",
        "colab_type": "code",
        "colab": {}
      },
      "cell_type": "code",
      "source": [
        "BASE_PATH = r'./education/KH/dataset/segmentation'\n",
        "IMG_DATA_PATH = os.path.join(BASE_PATH, 'lung_cancer', 'input', '2d_images')\n",
        "MASK_DATA_PATH = os.path.join(BASE_PATH, 'lung_cancer', 'input', '2d_masks')"
      ],
      "execution_count": 0,
      "outputs": []
    },
    {
      "metadata": {
        "id": "YICRZvPwlg77",
        "colab_type": "code",
        "colab": {
          "base_uri": "https://localhost:8080/",
          "height": 34
        },
        "outputId": "83dd9560-3e7d-4ad6-968a-9dfed471f8ac"
      },
      "cell_type": "code",
      "source": [
        "IMG_DATA_PATH"
      ],
      "execution_count": 11,
      "outputs": [
        {
          "output_type": "execute_result",
          "data": {
            "text/plain": [
              "'./education/KH/dataset/segmentation/lung_cancer/input/2d_images'"
            ]
          },
          "metadata": {
            "tags": []
          },
          "execution_count": 11
        }
      ]
    },
    {
      "metadata": {
        "id": "SJW0SS1gn18x",
        "colab_type": "text"
      },
      "cell_type": "markdown",
      "source": [
        "# **하이퍼 파라미터**\n",
        "하이퍼 파라미터를 이용해 인공지능 모델을 조정합니다.  \n",
        "주로 사용하는 하이퍼 파라미터는 다음과 같습니다."
      ]
    },
    {
      "metadata": {
        "id": "FXS5b1skljMY",
        "colab_type": "code",
        "colab": {}
      },
      "cell_type": "code",
      "source": [
        "IMG_HEIGHT, IMG_WIDTH = (96, 96) # 이미지 사이즈\n",
        "EPOCHS = 10                      # 훈련 횟수\n",
        "BATCH_SIZE = 5                   # 한번에 입력할 데이터 개수 \n",
        "INIT_FILTERS = 32                # 모델 채널 크기\n",
        "LEARNING_RATE = 2e-4             # 학습률\n",
        "DECAY_RATE = 0.9                 # 학습률 감소 비율 \n",
        "ACTIVATION_FN = 'elu'            # 활성함수 ex: relu, elu, sigmoid\n",
        "DROP_RATE = 0.25                 # 드롭아웃 비율\n",
        "VAL_RATIO = 0.2                  # 검증 데이터 비율"
      ],
      "execution_count": 0,
      "outputs": []
    },
    {
      "metadata": {
        "id": "y02-GBpMn5HR",
        "colab_type": "text"
      },
      "cell_type": "markdown",
      "source": [
        "# **데이터 불러오기**\n",
        "\n",
        "이미지와 레이블 데이터를 불러옵니다.  \n",
        "glob.glob 함수를 이용해 경로에 있는 파일들을 검색할 수 있습니다."
      ]
    },
    {
      "metadata": {
        "id": "lVp84MFFlnA9",
        "colab_type": "code",
        "colab": {}
      },
      "cell_type": "code",
      "source": [
        "img_path = sorted(glob.glob(os.path.join(IMG_DATA_PATH, '*.tif')))\n",
        "mask_path = sorted(glob.glob(os.path.join(MASK_DATA_PATH, '*.tif')))"
      ],
      "execution_count": 0,
      "outputs": []
    },
    {
      "metadata": {
        "id": "4MnUHIemlpGP",
        "colab_type": "code",
        "colab": {
          "base_uri": "https://localhost:8080/",
          "height": 867
        },
        "outputId": "2a175a8a-15d9-4547-a536-fbc7beae31a0"
      },
      "cell_type": "code",
      "source": [
        "img_path"
      ],
      "execution_count": 17,
      "outputs": [
        {
          "output_type": "execute_result",
          "data": {
            "text/plain": [
              "['./education/KH/dataset/segmentation/lung_cancer/input/2d_images/ID_0000_Z_0142.tif',\n",
              " './education/KH/dataset/segmentation/lung_cancer/input/2d_images/ID_0001_Z_0146.tif',\n",
              " './education/KH/dataset/segmentation/lung_cancer/input/2d_images/ID_0002_Z_0162.tif',\n",
              " './education/KH/dataset/segmentation/lung_cancer/input/2d_images/ID_0003_Z_0132.tif',\n",
              " './education/KH/dataset/segmentation/lung_cancer/input/2d_images/ID_0004_Z_0066.tif',\n",
              " './education/KH/dataset/segmentation/lung_cancer/input/2d_images/ID_0005_Z_0066.tif',\n",
              " './education/KH/dataset/segmentation/lung_cancer/input/2d_images/ID_0006_Z_0206.tif',\n",
              " './education/KH/dataset/segmentation/lung_cancer/input/2d_images/ID_0007_Z_0211.tif',\n",
              " './education/KH/dataset/segmentation/lung_cancer/input/2d_images/ID_0008_Z_0065.tif',\n",
              " './education/KH/dataset/segmentation/lung_cancer/input/2d_images/ID_0009_Z_0114.tif',\n",
              " './education/KH/dataset/segmentation/lung_cancer/input/2d_images/ID_0010_Z_0259.tif',\n",
              " './education/KH/dataset/segmentation/lung_cancer/input/2d_images/ID_0011_Z_0156.tif',\n",
              " './education/KH/dataset/segmentation/lung_cancer/input/2d_images/ID_0012_Z_0167.tif',\n",
              " './education/KH/dataset/segmentation/lung_cancer/input/2d_images/ID_0013_Z_0047.tif',\n",
              " './education/KH/dataset/segmentation/lung_cancer/input/2d_images/ID_0014_Z_0116.tif',\n",
              " './education/KH/dataset/segmentation/lung_cancer/input/2d_images/ID_0015_Z_0136.tif',\n",
              " './education/KH/dataset/segmentation/lung_cancer/input/2d_images/ID_0016_Z_0208.tif',\n",
              " './education/KH/dataset/segmentation/lung_cancer/input/2d_images/ID_0017_Z_0061.tif',\n",
              " './education/KH/dataset/segmentation/lung_cancer/input/2d_images/ID_0018_Z_0069.tif',\n",
              " './education/KH/dataset/segmentation/lung_cancer/input/2d_images/ID_0019_Z_0088.tif',\n",
              " './education/KH/dataset/segmentation/lung_cancer/input/2d_images/ID_0020_Z_0070.tif',\n",
              " './education/KH/dataset/segmentation/lung_cancer/input/2d_images/ID_0021_Z_0066.tif',\n",
              " './education/KH/dataset/segmentation/lung_cancer/input/2d_images/ID_0022_Z_0131.tif',\n",
              " './education/KH/dataset/segmentation/lung_cancer/input/2d_images/ID_0023_Z_0241.tif',\n",
              " './education/KH/dataset/segmentation/lung_cancer/input/2d_images/ID_0024_Z_0086.tif',\n",
              " './education/KH/dataset/segmentation/lung_cancer/input/2d_images/ID_0025_Z_0112.tif',\n",
              " './education/KH/dataset/segmentation/lung_cancer/input/2d_images/ID_0026_Z_0140.tif',\n",
              " './education/KH/dataset/segmentation/lung_cancer/input/2d_images/ID_0027_Z_0125.tif',\n",
              " './education/KH/dataset/segmentation/lung_cancer/input/2d_images/ID_0028_Z_0125.tif',\n",
              " './education/KH/dataset/segmentation/lung_cancer/input/2d_images/ID_0029_Z_0059.tif',\n",
              " './education/KH/dataset/segmentation/lung_cancer/input/2d_images/ID_0030_Z_0302.tif',\n",
              " './education/KH/dataset/segmentation/lung_cancer/input/2d_images/ID_0031_Z_0232.tif',\n",
              " './education/KH/dataset/segmentation/lung_cancer/input/2d_images/ID_0032_Z_0055.tif',\n",
              " './education/KH/dataset/segmentation/lung_cancer/input/2d_images/ID_0033_Z_0278.tif',\n",
              " './education/KH/dataset/segmentation/lung_cancer/input/2d_images/ID_0034_Z_0066.tif',\n",
              " './education/KH/dataset/segmentation/lung_cancer/input/2d_images/ID_0035_Z_0224.tif',\n",
              " './education/KH/dataset/segmentation/lung_cancer/input/2d_images/ID_0036_Z_0060.tif',\n",
              " './education/KH/dataset/segmentation/lung_cancer/input/2d_images/ID_0037_Z_0150.tif',\n",
              " './education/KH/dataset/segmentation/lung_cancer/input/2d_images/ID_0038_Z_0148.tif',\n",
              " './education/KH/dataset/segmentation/lung_cancer/input/2d_images/ID_0039_Z_0112.tif',\n",
              " './education/KH/dataset/segmentation/lung_cancer/input/2d_images/ID_0040_Z_0066.tif',\n",
              " './education/KH/dataset/segmentation/lung_cancer/input/2d_images/ID_0041_Z_0336.tif',\n",
              " './education/KH/dataset/segmentation/lung_cancer/input/2d_images/ID_0042_Z_0366.tif',\n",
              " './education/KH/dataset/segmentation/lung_cancer/input/2d_images/ID_0043_Z_0097.tif',\n",
              " './education/KH/dataset/segmentation/lung_cancer/input/2d_images/ID_0044_Z_0116.tif',\n",
              " './education/KH/dataset/segmentation/lung_cancer/input/2d_images/ID_0045_Z_0131.tif',\n",
              " './education/KH/dataset/segmentation/lung_cancer/input/2d_images/ID_0046_Z_0110.tif',\n",
              " './education/KH/dataset/segmentation/lung_cancer/input/2d_images/ID_0047_Z_0272.tif',\n",
              " './education/KH/dataset/segmentation/lung_cancer/input/2d_images/ID_0048_Z_0294.tif',\n",
              " './education/KH/dataset/segmentation/lung_cancer/input/2d_images/ID_0049_Z_0105.tif']"
            ]
          },
          "metadata": {
            "tags": []
          },
          "execution_count": 17
        }
      ]
    },
    {
      "metadata": {
        "id": "58wRxFDslrUq",
        "colab_type": "code",
        "colab": {
          "base_uri": "https://localhost:8080/",
          "height": 867
        },
        "outputId": "4419832d-d087-4e6d-e917-0ebd3fd40f14"
      },
      "cell_type": "code",
      "source": [
        "mask_path"
      ],
      "execution_count": 18,
      "outputs": [
        {
          "output_type": "execute_result",
          "data": {
            "text/plain": [
              "['./education/KH/dataset/segmentation/lung_cancer/input/2d_masks/ID_0000_Z_0142.tif',\n",
              " './education/KH/dataset/segmentation/lung_cancer/input/2d_masks/ID_0001_Z_0146.tif',\n",
              " './education/KH/dataset/segmentation/lung_cancer/input/2d_masks/ID_0002_Z_0162.tif',\n",
              " './education/KH/dataset/segmentation/lung_cancer/input/2d_masks/ID_0003_Z_0132.tif',\n",
              " './education/KH/dataset/segmentation/lung_cancer/input/2d_masks/ID_0004_Z_0066.tif',\n",
              " './education/KH/dataset/segmentation/lung_cancer/input/2d_masks/ID_0005_Z_0066.tif',\n",
              " './education/KH/dataset/segmentation/lung_cancer/input/2d_masks/ID_0006_Z_0206.tif',\n",
              " './education/KH/dataset/segmentation/lung_cancer/input/2d_masks/ID_0007_Z_0211.tif',\n",
              " './education/KH/dataset/segmentation/lung_cancer/input/2d_masks/ID_0008_Z_0065.tif',\n",
              " './education/KH/dataset/segmentation/lung_cancer/input/2d_masks/ID_0009_Z_0114.tif',\n",
              " './education/KH/dataset/segmentation/lung_cancer/input/2d_masks/ID_0010_Z_0259.tif',\n",
              " './education/KH/dataset/segmentation/lung_cancer/input/2d_masks/ID_0011_Z_0156.tif',\n",
              " './education/KH/dataset/segmentation/lung_cancer/input/2d_masks/ID_0012_Z_0167.tif',\n",
              " './education/KH/dataset/segmentation/lung_cancer/input/2d_masks/ID_0013_Z_0047.tif',\n",
              " './education/KH/dataset/segmentation/lung_cancer/input/2d_masks/ID_0014_Z_0116.tif',\n",
              " './education/KH/dataset/segmentation/lung_cancer/input/2d_masks/ID_0015_Z_0136.tif',\n",
              " './education/KH/dataset/segmentation/lung_cancer/input/2d_masks/ID_0016_Z_0208.tif',\n",
              " './education/KH/dataset/segmentation/lung_cancer/input/2d_masks/ID_0017_Z_0061.tif',\n",
              " './education/KH/dataset/segmentation/lung_cancer/input/2d_masks/ID_0018_Z_0069.tif',\n",
              " './education/KH/dataset/segmentation/lung_cancer/input/2d_masks/ID_0019_Z_0088.tif',\n",
              " './education/KH/dataset/segmentation/lung_cancer/input/2d_masks/ID_0020_Z_0070.tif',\n",
              " './education/KH/dataset/segmentation/lung_cancer/input/2d_masks/ID_0021_Z_0066.tif',\n",
              " './education/KH/dataset/segmentation/lung_cancer/input/2d_masks/ID_0022_Z_0131.tif',\n",
              " './education/KH/dataset/segmentation/lung_cancer/input/2d_masks/ID_0023_Z_0241.tif',\n",
              " './education/KH/dataset/segmentation/lung_cancer/input/2d_masks/ID_0024_Z_0086.tif',\n",
              " './education/KH/dataset/segmentation/lung_cancer/input/2d_masks/ID_0025_Z_0112.tif',\n",
              " './education/KH/dataset/segmentation/lung_cancer/input/2d_masks/ID_0026_Z_0140.tif',\n",
              " './education/KH/dataset/segmentation/lung_cancer/input/2d_masks/ID_0027_Z_0125.tif',\n",
              " './education/KH/dataset/segmentation/lung_cancer/input/2d_masks/ID_0028_Z_0125.tif',\n",
              " './education/KH/dataset/segmentation/lung_cancer/input/2d_masks/ID_0029_Z_0059.tif',\n",
              " './education/KH/dataset/segmentation/lung_cancer/input/2d_masks/ID_0030_Z_0302.tif',\n",
              " './education/KH/dataset/segmentation/lung_cancer/input/2d_masks/ID_0031_Z_0232.tif',\n",
              " './education/KH/dataset/segmentation/lung_cancer/input/2d_masks/ID_0032_Z_0055.tif',\n",
              " './education/KH/dataset/segmentation/lung_cancer/input/2d_masks/ID_0033_Z_0278.tif',\n",
              " './education/KH/dataset/segmentation/lung_cancer/input/2d_masks/ID_0034_Z_0066.tif',\n",
              " './education/KH/dataset/segmentation/lung_cancer/input/2d_masks/ID_0035_Z_0224.tif',\n",
              " './education/KH/dataset/segmentation/lung_cancer/input/2d_masks/ID_0036_Z_0060.tif',\n",
              " './education/KH/dataset/segmentation/lung_cancer/input/2d_masks/ID_0037_Z_0150.tif',\n",
              " './education/KH/dataset/segmentation/lung_cancer/input/2d_masks/ID_0038_Z_0148.tif',\n",
              " './education/KH/dataset/segmentation/lung_cancer/input/2d_masks/ID_0039_Z_0112.tif',\n",
              " './education/KH/dataset/segmentation/lung_cancer/input/2d_masks/ID_0040_Z_0066.tif',\n",
              " './education/KH/dataset/segmentation/lung_cancer/input/2d_masks/ID_0041_Z_0336.tif',\n",
              " './education/KH/dataset/segmentation/lung_cancer/input/2d_masks/ID_0042_Z_0366.tif',\n",
              " './education/KH/dataset/segmentation/lung_cancer/input/2d_masks/ID_0043_Z_0097.tif',\n",
              " './education/KH/dataset/segmentation/lung_cancer/input/2d_masks/ID_0044_Z_0116.tif',\n",
              " './education/KH/dataset/segmentation/lung_cancer/input/2d_masks/ID_0045_Z_0131.tif',\n",
              " './education/KH/dataset/segmentation/lung_cancer/input/2d_masks/ID_0046_Z_0110.tif',\n",
              " './education/KH/dataset/segmentation/lung_cancer/input/2d_masks/ID_0047_Z_0272.tif',\n",
              " './education/KH/dataset/segmentation/lung_cancer/input/2d_masks/ID_0048_Z_0294.tif',\n",
              " './education/KH/dataset/segmentation/lung_cancer/input/2d_masks/ID_0049_Z_0105.tif']"
            ]
          },
          "metadata": {
            "tags": []
          },
          "execution_count": 18
        }
      ]
    },
    {
      "metadata": {
        "id": "cCi0ocSdoAfS",
        "colab_type": "text"
      },
      "cell_type": "markdown",
      "source": [
        "모아놓은 파일들을 다음 함수를 이용해 불러옵니다."
      ]
    },
    {
      "metadata": {
        "id": "PmMRtfgBluFQ",
        "colab_type": "code",
        "colab": {}
      },
      "cell_type": "code",
      "source": [
        "def load_and_resize_png1(path, img_height, img_width):\n",
        "    img = cv2.imread(path, cv2.IMREAD_UNCHANGED)\n",
        "    img = cv2.resize(img, dsize=(img_height, img_width), interpolation=cv2.INTER_AREA)\n",
        "    return img\n",
        "\n",
        "def load_and_resize_png2(path, img_height, img_width):\n",
        "    img = cv2.imread(path, cv2.IMREAD_UNCHANGED).astype(np.float32) / 255.\n",
        "    img = cv2.resize(img, dsize=(img_height, img_width), interpolation=cv2.INTER_NEAREST)\n",
        "    return img\n",
        "\n",
        "def load_and_resize_nii(path, img_height, img_width):\n",
        "    img = nb.load(path).get_data()\n",
        "    img = np.transpose(np.squeeze(img), (1, 0))\n",
        "    img = cv2.resize(img, dsize=(img_height, img_width), interpolation=cv2.INTER_AREA).astype(np.uint8)\n",
        "    return img"
      ],
      "execution_count": 0,
      "outputs": []
    },
    {
      "metadata": {
        "id": "yIqgli0noHxy",
        "colab_type": "text"
      },
      "cell_type": "markdown",
      "source": [
        "불러온 이미지의 형태는 다음과 같이 (267, 96, 96) 입니다.  \n",
        "***50*** 장의 세로 ***96***, 가로 ***96*** 의 이미지를 불러왔다는 의미입니다."
      ]
    },
    {
      "metadata": {
        "id": "D3_kF58VmKn-",
        "colab_type": "code",
        "colab": {
          "base_uri": "https://localhost:8080/",
          "height": 51
        },
        "outputId": "2c45b643-9de6-4d8a-e104-fffd0f79b310"
      },
      "cell_type": "code",
      "source": [
        "imgs = np.stack([load_and_resize_png1(i_path, IMG_HEIGHT, IMG_WIDTH) for i_path in img_path])\n",
        "print(imgs.shape)\n",
        "masks = np.stack([load_and_resize_png2(m_path, IMG_HEIGHT, IMG_WIDTH) for m_path in mask_path])\n",
        "print(masks.shape)"
      ],
      "execution_count": 20,
      "outputs": [
        {
          "output_type": "stream",
          "text": [
            "(50, 96, 96)\n",
            "(50, 96, 96)\n"
          ],
          "name": "stdout"
        }
      ]
    },
    {
      "metadata": {
        "id": "1G1ic6cRoQfP",
        "colab_type": "text"
      },
      "cell_type": "markdown",
      "source": [
        "이미지를 직접 확인해볼까요?  \n",
        "\n",
        "**왼쪽 이미지**는 우리가 AI 모델에 넣을 **인풋 이미지**고,  \n",
        "**오른쪽 이미지**는 AI 모델을 학습시킬 때 필요한 정답, 즉 **레이블 이미지**입니다.\n",
        "\n",
        "레이블 이미지와 같이 우리는 폐 영역을 분리해내는 AI 모델을 만들어 보겠습니다."
      ]
    },
    {
      "metadata": {
        "id": "PrLalx5rmM3w",
        "colab_type": "code",
        "colab": {
          "base_uri": "https://localhost:8080/",
          "height": 1138
        },
        "outputId": "084635dd-8821-42aa-b222-07f24d518af5"
      },
      "cell_type": "code",
      "source": [
        "fig, ax = plt.subplots(5, 2, figsize=(10, 20))\n",
        "for i in range(5):\n",
        "    ax[i,0].imshow(imgs[i], cmap='gray')\n",
        "    ax[i,1].imshow(masks[i], cmap='gray')\n",
        "plt.show()"
      ],
      "execution_count": 21,
      "outputs": [
        {
          "output_type": "display_data",
          "data": {
            "image/png": "[encoded data removed]",
            "text/plain": [
              "<Figure size 720x1440 with 10 Axes>"
            ]
          },
          "metadata": {
            "tags": []
          }
        }
      ]
    },
    {
      "metadata": {
        "id": "-F-s0rP6oT5p",
        "colab_type": "text"
      },
      "cell_type": "markdown",
      "source": [
        "마스크 데이터도 살펴볼까요?"
      ]
    },
    {
      "metadata": {
        "id": "l6oircG_mQ4L",
        "colab_type": "code",
        "colab": {
          "base_uri": "https://localhost:8080/",
          "height": 697
        },
        "outputId": "8c34277d-3e64-48c7-a86e-bdcccc8d2ac0"
      },
      "cell_type": "code",
      "source": [
        "masks[4, 40:60, 0:20]"
      ],
      "execution_count": 22,
      "outputs": [
        {
          "output_type": "execute_result",
          "data": {
            "text/plain": [
              "array([[0., 0., 0., 0., 0., 0., 0., 0., 0., 0., 0., 0., 0., 0., 1., 1.,\n",
              "        1., 1., 1., 1.],\n",
              "       [0., 0., 0., 0., 0., 0., 0., 0., 0., 0., 0., 0., 0., 0., 1., 1.,\n",
              "        1., 1., 1., 1.],\n",
              "       [0., 0., 0., 0., 0., 0., 0., 0., 0., 0., 0., 0., 0., 0., 1., 1.,\n",
              "        1., 1., 1., 1.],\n",
              "       [0., 0., 0., 0., 0., 0., 0., 0., 0., 0., 0., 0., 0., 1., 1., 1.,\n",
              "        1., 1., 1., 1.],\n",
              "       [0., 0., 0., 0., 0., 0., 0., 0., 0., 0., 0., 0., 0., 1., 1., 1.,\n",
              "        1., 1., 1., 1.],\n",
              "       [0., 0., 0., 0., 0., 0., 0., 0., 0., 0., 0., 0., 0., 1., 1., 1.,\n",
              "        1., 1., 1., 1.],\n",
              "       [0., 0., 0., 0., 0., 0., 0., 0., 0., 0., 0., 0., 0., 1., 1., 1.,\n",
              "        1., 1., 1., 1.],\n",
              "       [0., 0., 0., 0., 0., 0., 0., 0., 0., 0., 0., 0., 0., 1., 1., 1.,\n",
              "        1., 1., 1., 1.],\n",
              "       [0., 0., 0., 0., 0., 0., 0., 0., 0., 0., 0., 0., 1., 1., 1., 1.,\n",
              "        1., 1., 1., 1.],\n",
              "       [0., 0., 0., 0., 0., 0., 0., 0., 0., 0., 0., 0., 1., 1., 1., 1.,\n",
              "        1., 1., 1., 1.],\n",
              "       [0., 0., 0., 0., 0., 0., 0., 0., 0., 0., 0., 0., 1., 1., 1., 1.,\n",
              "        1., 1., 1., 1.],\n",
              "       [0., 0., 0., 0., 0., 0., 0., 0., 0., 0., 0., 0., 1., 1., 1., 1.,\n",
              "        1., 1., 1., 1.],\n",
              "       [0., 0., 0., 0., 0., 0., 0., 0., 0., 0., 0., 0., 1., 1., 1., 1.,\n",
              "        1., 1., 1., 1.],\n",
              "       [0., 0., 0., 0., 0., 0., 0., 0., 0., 0., 0., 0., 1., 1., 1., 1.,\n",
              "        1., 1., 1., 1.],\n",
              "       [0., 0., 0., 0., 0., 0., 0., 0., 0., 0., 0., 0., 1., 1., 1., 1.,\n",
              "        1., 1., 1., 1.],\n",
              "       [0., 0., 0., 0., 0., 0., 0., 0., 0., 0., 0., 0., 1., 1., 1., 1.,\n",
              "        1., 1., 1., 1.],\n",
              "       [0., 0., 0., 0., 0., 0., 0., 0., 0., 0., 0., 0., 1., 1., 1., 1.,\n",
              "        1., 1., 1., 1.],\n",
              "       [0., 0., 0., 0., 0., 0., 0., 0., 0., 0., 0., 0., 0., 1., 1., 1.,\n",
              "        1., 1., 1., 1.],\n",
              "       [0., 0., 0., 0., 0., 0., 0., 0., 0., 0., 0., 0., 0., 1., 1., 1.,\n",
              "        1., 1., 1., 1.],\n",
              "       [0., 0., 0., 0., 0., 0., 0., 0., 0., 0., 0., 0., 0., 1., 1., 1.,\n",
              "        1., 1., 1., 1.]], dtype=float32)"
            ]
          },
          "metadata": {
            "tags": []
          },
          "execution_count": 22
        }
      ]
    },
    {
      "metadata": {
        "id": "OUFJDQWUoW9G",
        "colab_type": "text"
      },
      "cell_type": "markdown",
      "source": [
        "# **데이터 전처리**\n",
        "\n",
        "AI 모델을 만들기 이전에 모델 학습에 도움을 줄 데이터 전처리를 살펴보겠습니다.  \n",
        "이 과정을 통해 **AI 모델이 받아들이기 쉬운 형태로 데이터를 가공** 하여 학습 성능을 올릴 수 있습니다.  \n",
        "\n",
        "\n",
        "먼저, 위에서 본 이미지 데이터를 컴퓨터가 실제로 인식하는 숫자 데이터로 확인해보겠습니다. "
      ]
    },
    {
      "metadata": {
        "id": "nt6AD76HmT7G",
        "colab_type": "code",
        "colab": {
          "base_uri": "https://localhost:8080/",
          "height": 136
        },
        "outputId": "f255e7b4-2dd9-4129-938c-bb63f33184e3"
      },
      "cell_type": "code",
      "source": [
        "imgs[0]"
      ],
      "execution_count": 23,
      "outputs": [
        {
          "output_type": "execute_result",
          "data": {
            "text/plain": [
              "array([[64716, 64733, 64725, ..., 64727, 64734, 64722],\n",
              "       [64734, 64712, 64734, ..., 64726, 64714, 64729],\n",
              "       [64725, 64724, 64716, ..., 64722, 64732, 64718],\n",
              "       ...,\n",
              "       [64714, 64721, 64726, ..., 64725, 64718, 64721],\n",
              "       [64711, 64707, 64734, ..., 64741, 64721, 64722],\n",
              "       [64715, 64730, 64726, ..., 64723, 64721, 64737]], dtype=uint16)"
            ]
          },
          "metadata": {
            "tags": []
          },
          "execution_count": 23
        }
      ]
    },
    {
      "metadata": {
        "id": "A7uAWWuFofFY",
        "colab_type": "text"
      },
      "cell_type": "markdown",
      "source": [
        "범위가 넓고 단위가 큰 숫자들을 정규화하여 학습 성능을 높여봅시다.  \n",
        "가장 기본적인 정규화 방법으로 고등학교 때 배운 **Z-score** 를 사용할 수 있습니다."
      ]
    },
    {
      "metadata": {
        "id": "oSQ8iZLBmV0k",
        "colab_type": "code",
        "colab": {}
      },
      "cell_type": "code",
      "source": [
        "n_imgs = len(imgs)\n",
        "imgs = np.reshape(imgs, (n_imgs, -1))\n",
        "imgs_t = np.transpose(imgs, (1,0))\n",
        "imgs_t_norm = (imgs_t - np.mean(imgs_t, axis=0)) / np.std(imgs_t, axis=0)\n",
        "imgs = np.transpose(imgs_t_norm, (1,0))\n",
        "imgs = np.reshape(imgs, (n_imgs, IMG_HEIGHT, IMG_WIDTH))"
      ],
      "execution_count": 0,
      "outputs": []
    },
    {
      "metadata": {
        "id": "zgzNRvd9oiNV",
        "colab_type": "text"
      },
      "cell_type": "markdown",
      "source": [
        "다시 값을 확인해 봅시다."
      ]
    },
    {
      "metadata": {
        "id": "jKvfcVwkmYWf",
        "colab_type": "code",
        "colab": {
          "base_uri": "https://localhost:8080/",
          "height": 238
        },
        "outputId": "e5f3acc8-6f37-4bb5-a311-c34125dfe9d9"
      },
      "cell_type": "code",
      "source": [
        "imgs[0]"
      ],
      "execution_count": 25,
      "outputs": [
        {
          "output_type": "execute_result",
          "data": {
            "text/plain": [
              "array([[0.59945889, 0.60033547, 0.59992296, ..., 0.60002609, 0.60038703,\n",
              "        0.59976827],\n",
              "       [0.60038703, 0.59925264, 0.60038703, ..., 0.59997452, 0.59935577,\n",
              "        0.60012921],\n",
              "       [0.59992296, 0.5998714 , 0.59945889, ..., 0.59976827, 0.6002839 ,\n",
              "        0.59956202],\n",
              "       ...,\n",
              "       [0.59935577, 0.59971671, 0.59997452, ..., 0.59992296, 0.59956202,\n",
              "        0.59971671],\n",
              "       [0.59920108, 0.59899482, 0.60038703, ..., 0.60074797, 0.59971671,\n",
              "        0.59976827],\n",
              "       [0.59940733, 0.60018078, 0.59997452, ..., 0.59981983, 0.59971671,\n",
              "        0.60054172]])"
            ]
          },
          "metadata": {
            "tags": []
          },
          "execution_count": 25
        }
      ]
    },
    {
      "metadata": {
        "id": "unNU1T3bolAh",
        "colab_type": "text"
      },
      "cell_type": "markdown",
      "source": [
        "그 후 AI 모델에 넣을 수 있는 형태로 이미지 형태를 변형해 보겠습니다. "
      ]
    },
    {
      "metadata": {
        "id": "ajgPoY4emakS",
        "colab_type": "code",
        "colab": {
          "base_uri": "https://localhost:8080/",
          "height": 51
        },
        "outputId": "9555a141-8357-44a2-f514-f2e7ac08fb4a"
      },
      "cell_type": "code",
      "source": [
        "print('변경 전 형태: ', np.shape(imgs))\n",
        "imgs = imgs[:,:,:,np.newaxis]\n",
        "masks = masks[:,:,:,np.newaxis]\n",
        "print('변경 후 형태: ', np.shape(imgs))"
      ],
      "execution_count": 26,
      "outputs": [
        {
          "output_type": "stream",
          "text": [
            "변경 전 형태:  (50, 96, 96)\n",
            "변경 후 형태:  (50, 96, 96, 1)\n"
          ],
          "name": "stdout"
        }
      ]
    },
    {
      "metadata": {
        "id": "vlQaiNKdooiq",
        "colab_type": "text"
      },
      "cell_type": "markdown",
      "source": [
        "마지막으로, 데이터를 학습용 데이터와 검증용 데이터로 나누어 봅시다.  \n",
        "**학습용 데이터**는 실제로 **모델 학습에 사용** 되는 데이터이고,  \n",
        "**검증용 데이터**는 학습에 사용하지 않고 학습이 잘 이뤄지는 지 **성능 확인하는 용도**로 사용합니다."
      ]
    },
    {
      "metadata": {
        "id": "W9-S3pVCmchE",
        "colab_type": "code",
        "colab": {
          "base_uri": "https://localhost:8080/",
          "height": 51
        },
        "outputId": "0579fa34-2bf0-4737-fbd0-e958f9c65bce"
      },
      "cell_type": "code",
      "source": [
        "imgs_train, imgs_val, masks_train, masks_val = train_test_split(imgs, masks, test_size=VAL_RATIO)\n",
        "print('훈련 데이터 개수: ', len(imgs_train))\n",
        "print('검증 데이터 개수: ', len(imgs_val))"
      ],
      "execution_count": 27,
      "outputs": [
        {
          "output_type": "stream",
          "text": [
            "훈련 데이터 개수:  40\n",
            "검증 데이터 개수:  10\n"
          ],
          "name": "stdout"
        }
      ]
    },
    {
      "metadata": {
        "id": "FFX3MwK6orvW",
        "colab_type": "text"
      },
      "cell_type": "markdown",
      "source": [
        "# **AI 모델을 구성하는 레이어 만들기**\n",
        "\n",
        "AI 모델은 여러 개의 레이어를 쌓아 올려 만듭니다.  \n",
        "가장 대표적인 레이어 구조인 **CONV-BN-ACT-POOL** 구조를 만들어 보겠습니다.\n",
        "\n",
        "먼저 데이터가 들어가는 첫 번째 레이어를 만들어 봅시다."
      ]
    },
    {
      "metadata": {
        "id": "-ToZiJr8mes5",
        "colab_type": "code",
        "colab": {}
      },
      "cell_type": "code",
      "source": [
        "layer1 = Input(shape=imgs_train.shape[1:])"
      ],
      "execution_count": 0,
      "outputs": []
    },
    {
      "metadata": {
        "id": "BKwGrrTFounl",
        "colab_type": "text"
      },
      "cell_type": "markdown",
      "source": [
        "그 다음으로 데이터의 특징을 추출할 Convolution 레이어를 연결하겠습니다."
      ]
    },
    {
      "metadata": {
        "id": "XBADVK5rmgjX",
        "colab_type": "code",
        "colab": {
          "base_uri": "https://localhost:8080/",
          "height": 88
        },
        "outputId": "bd7f4c22-5dc1-4168-f94e-76a620549ede"
      },
      "cell_type": "code",
      "source": [
        "layer2 = Conv2D(filters=8, kernel_size=(3, 3), activation=None, padding='same')(layer1)"
      ],
      "execution_count": 29,
      "outputs": [
        {
          "output_type": "stream",
          "text": [
            "WARNING:tensorflow:From /usr/local/lib/python3.6/dist-packages/tensorflow/python/framework/op_def_library.py:263: colocate_with (from tensorflow.python.framework.ops) is deprecated and will be removed in a future version.\n",
            "Instructions for updating:\n",
            "Colocations handled automatically by placer.\n"
          ],
          "name": "stdout"
        }
      ]
    },
    {
      "metadata": {
        "id": "tt4HnY0wowpJ",
        "colab_type": "text"
      },
      "cell_type": "markdown",
      "source": [
        "다음으로 레이어 중간에서 정규화를 도와줄 Batch Normalization 레이어를 추가하겠습니다."
      ]
    },
    {
      "metadata": {
        "id": "dPmNP1X-miYN",
        "colab_type": "code",
        "colab": {}
      },
      "cell_type": "code",
      "source": [
        "layer3 = BatchNormalization()(layer2)"
      ],
      "execution_count": 0,
      "outputs": []
    },
    {
      "metadata": {
        "id": "idEPDmt4oy7n",
        "colab_type": "text"
      },
      "cell_type": "markdown",
      "source": [
        "Batch Normalization 이후 신호를 변환하여 다음 뉴런으로 전달하는 Activation function 레이어를 추가합니다."
      ]
    },
    {
      "metadata": {
        "id": "lv8c4xI6mkXl",
        "colab_type": "code",
        "colab": {}
      },
      "cell_type": "code",
      "source": [
        "layer4 = Activation('relu')(layer3) #### concat용"
      ],
      "execution_count": 0,
      "outputs": []
    },
    {
      "metadata": {
        "id": "aystWT0zo3Qn",
        "colab_type": "text"
      },
      "cell_type": "markdown",
      "source": [
        "이미지 사이즈를 줄여주는 Pooling 레이어를 연결합니다."
      ]
    },
    {
      "metadata": {
        "id": "-7dq7LP-mmQ_",
        "colab_type": "code",
        "colab": {}
      },
      "cell_type": "code",
      "source": [
        "layer5 = MaxPool2D(strides=(2, 2))(layer4)"
      ],
      "execution_count": 0,
      "outputs": []
    },
    {
      "metadata": {
        "id": "JKk0OGAwo7ZX",
        "colab_type": "text"
      },
      "cell_type": "markdown",
      "source": [
        "다시 Conv-BN-ACT 레이어를 연결합니다."
      ]
    },
    {
      "metadata": {
        "id": "ngzop9xkmoIb",
        "colab_type": "code",
        "colab": {}
      },
      "cell_type": "code",
      "source": [
        "layer6 = Conv2D(filters=16, kernel_size=(3, 3), activation=None, padding='same')(layer5)"
      ],
      "execution_count": 0,
      "outputs": []
    },
    {
      "metadata": {
        "id": "Ms0-kCN3mqAz",
        "colab_type": "code",
        "colab": {}
      },
      "cell_type": "code",
      "source": [
        "layer7 = BatchNormalization()(layer6)"
      ],
      "execution_count": 0,
      "outputs": []
    },
    {
      "metadata": {
        "id": "AFVX6VK-mrp4",
        "colab_type": "code",
        "colab": {}
      },
      "cell_type": "code",
      "source": [
        "layer8 = Activation('relu')(layer7)"
      ],
      "execution_count": 0,
      "outputs": []
    },
    {
      "metadata": {
        "id": "8rY5o8SAo9te",
        "colab_type": "text"
      },
      "cell_type": "markdown",
      "source": [
        "이번에는 이미지 사이즈를 키워주는 Upsampling 레이어를 연결합니다."
      ]
    },
    {
      "metadata": {
        "id": "8yuVO1tCmtCB",
        "colab_type": "code",
        "colab": {}
      },
      "cell_type": "code",
      "source": [
        "layer9 = UpSampling2D(size=(2, 2))(layer8) ### concat 용"
      ],
      "execution_count": 0,
      "outputs": []
    },
    {
      "metadata": {
        "id": "TsBIHtMdo_-o",
        "colab_type": "text"
      },
      "cell_type": "markdown",
      "source": [
        "레이어4와 레이어9를 함께 합쳐봅시다."
      ]
    },
    {
      "metadata": {
        "id": "F2VowIsvmu5y",
        "colab_type": "code",
        "colab": {}
      },
      "cell_type": "code",
      "source": [
        "layer10 = concatenate([layer9, layer4], axis=-1)"
      ],
      "execution_count": 0,
      "outputs": []
    },
    {
      "metadata": {
        "id": "LhyjsILXpCJ8",
        "colab_type": "text"
      },
      "cell_type": "markdown",
      "source": [
        "마지막으로 아웃풋 레이어를 연결합니다."
      ]
    },
    {
      "metadata": {
        "id": "R532G9fmmwXx",
        "colab_type": "code",
        "colab": {}
      },
      "cell_type": "code",
      "source": [
        "layer11 = Conv2D(filters=1, kernel_size=(1, 1), activation='sigmoid')(layer10)"
      ],
      "execution_count": 0,
      "outputs": []
    },
    {
      "metadata": {
        "id": "sVra-BwjpEVB",
        "colab_type": "text"
      },
      "cell_type": "markdown",
      "source": [
        "지금까지 만든 레이어를 Model 함수에 넣어 연결하면 모델이 완성됩니다."
      ]
    },
    {
      "metadata": {
        "id": "Wp196gSbmx8J",
        "colab_type": "code",
        "colab": {
          "base_uri": "https://localhost:8080/",
          "height": 527
        },
        "outputId": "8f807ca7-3d2f-42fe-a0b5-8341ccefdb7c"
      },
      "cell_type": "code",
      "source": [
        "sample_model = Model(layer1, layer11)\n",
        "sample_model.summary()"
      ],
      "execution_count": 39,
      "outputs": [
        {
          "output_type": "stream",
          "text": [
            "__________________________________________________________________________________________________\n",
            "Layer (type)                    Output Shape         Param #     Connected to                     \n",
            "==================================================================================================\n",
            "input_1 (InputLayer)            (None, 96, 96, 1)    0                                            \n",
            "__________________________________________________________________________________________________\n",
            "conv2d_1 (Conv2D)               (None, 96, 96, 8)    80          input_1[0][0]                    \n",
            "__________________________________________________________________________________________________\n",
            "batch_normalization_1 (BatchNor (None, 96, 96, 8)    32          conv2d_1[0][0]                   \n",
            "__________________________________________________________________________________________________\n",
            "activation_1 (Activation)       (None, 96, 96, 8)    0           batch_normalization_1[0][0]      \n",
            "__________________________________________________________________________________________________\n",
            "max_pooling2d_1 (MaxPooling2D)  (None, 48, 48, 8)    0           activation_1[0][0]               \n",
            "__________________________________________________________________________________________________\n",
            "conv2d_2 (Conv2D)               (None, 48, 48, 16)   1168        max_pooling2d_1[0][0]            \n",
            "__________________________________________________________________________________________________\n",
            "batch_normalization_2 (BatchNor (None, 48, 48, 16)   64          conv2d_2[0][0]                   \n",
            "__________________________________________________________________________________________________\n",
            "activation_2 (Activation)       (None, 48, 48, 16)   0           batch_normalization_2[0][0]      \n",
            "__________________________________________________________________________________________________\n",
            "up_sampling2d_1 (UpSampling2D)  (None, 96, 96, 16)   0           activation_2[0][0]               \n",
            "__________________________________________________________________________________________________\n",
            "concatenate_1 (Concatenate)     (None, 96, 96, 24)   0           up_sampling2d_1[0][0]            \n",
            "                                                                 activation_1[0][0]               \n",
            "__________________________________________________________________________________________________\n",
            "conv2d_3 (Conv2D)               (None, 96, 96, 1)    25          concatenate_1[0][0]              \n",
            "==================================================================================================\n",
            "Total params: 1,369\n",
            "Trainable params: 1,321\n",
            "Non-trainable params: 48\n",
            "__________________________________________________________________________________________________\n"
          ],
          "name": "stdout"
        }
      ]
    },
    {
      "metadata": {
        "id": "dSxBifAIpG6t",
        "colab_type": "text"
      },
      "cell_type": "markdown",
      "source": [
        "# 폐 영역 분리 AI 모델 만들기1"
      ]
    },
    {
      "metadata": {
        "id": "0Rm7Ibqvmzbc",
        "colab_type": "code",
        "colab": {
          "base_uri": "https://localhost:8080/",
          "height": 1377
        },
        "outputId": "6dd914ee-3223-45b4-8d80-ac1e44b5e90f"
      },
      "cell_type": "code",
      "source": [
        "input_layer = Input(shape=imgs_train.shape[1:])\n",
        "\n",
        "filters = INIT_FILTERS\n",
        "c1 = Conv2D(filters=filters, kernel_size=(3, 3), activation=None, padding='same')(input_layer)\n",
        "c1 = BatchNormalization()(c1)\n",
        "c1 = Activation(ACTIVATION_FN)(c1)\n",
        "l = MaxPool2D(strides=(2, 2))(c1)\n",
        "\n",
        "filters *= 2\n",
        "c2 = Conv2D(filters=filters, kernel_size=(3, 3), activation=None, padding='same')(l)\n",
        "c2 = BatchNormalization()(c2)\n",
        "c2 = Activation(ACTIVATION_FN)(c2)\n",
        "l = MaxPool2D(strides=(2, 2))(c2)\n",
        "\n",
        "filters *= 2\n",
        "c3 = Conv2D(filters=filters, kernel_size=(3, 3), activation=None, padding='same')(l)\n",
        "c3 = BatchNormalization()(c3)\n",
        "c3 = Activation(ACTIVATION_FN)(c3)\n",
        "l = MaxPool2D(strides=(2, 2))(c3)\n",
        "\n",
        "filters *= 2\n",
        "c4 = Conv2D(filters=filters, kernel_size=(3, 3), activation=None, padding='same')(l)\n",
        "c4 = BatchNormalization()(c4)\n",
        "c4 = Activation(ACTIVATION_FN)(c4)\n",
        "l = concatenate([UpSampling2D(size=(2, 2))(c4), c3], axis=-1)\n",
        "\n",
        "l = Conv2D(filters=filters, kernel_size=(3, 3), activation=None, padding='same')(l)\n",
        "l = BatchNormalization()(l)\n",
        "l = Activation(ACTIVATION_FN)(l)\n",
        "l = concatenate([UpSampling2D(size=(2, 2))(l), c2], axis=-1)\n",
        "\n",
        "filters //= 2\n",
        "l = Conv2D(filters=filters, kernel_size=(3, 3), activation=None, padding='same')(l)\n",
        "l = BatchNormalization()(l)\n",
        "l = Activation(ACTIVATION_FN)(l)\n",
        "l = concatenate([UpSampling2D(size=(2, 2))(l), c1], axis=-1)\n",
        "\n",
        "filters //= 2\n",
        "l = Conv2D(filters=filters, kernel_size=(3, 3), activation=None, padding='same')(l)\n",
        "l = BatchNormalization()(l)\n",
        "l = Activation(ACTIVATION_FN)(l)\n",
        "\n",
        "filters //= 2\n",
        "l = Conv2D(filters=filters, kernel_size=(3, 3), activation=None, padding='same')(l)\n",
        "l = BatchNormalization()(l)\n",
        "l = Activation(ACTIVATION_FN)(l)\n",
        "\n",
        "output_layer = Conv2D(filters=1, kernel_size=(1, 1), activation='sigmoid', padding='same')(l)\n",
        "    \n",
        "model = Model(input_layer, output_layer)\n",
        "model.summary()"
      ],
      "execution_count": 40,
      "outputs": [
        {
          "output_type": "stream",
          "text": [
            "__________________________________________________________________________________________________\n",
            "Layer (type)                    Output Shape         Param #     Connected to                     \n",
            "==================================================================================================\n",
            "input_2 (InputLayer)            (None, 96, 96, 1)    0                                            \n",
            "__________________________________________________________________________________________________\n",
            "conv2d_4 (Conv2D)               (None, 96, 96, 32)   320         input_2[0][0]                    \n",
            "__________________________________________________________________________________________________\n",
            "batch_normalization_3 (BatchNor (None, 96, 96, 32)   128         conv2d_4[0][0]                   \n",
            "__________________________________________________________________________________________________\n",
            "activation_3 (Activation)       (None, 96, 96, 32)   0           batch_normalization_3[0][0]      \n",
            "__________________________________________________________________________________________________\n",
            "max_pooling2d_2 (MaxPooling2D)  (None, 48, 48, 32)   0           activation_3[0][0]               \n",
            "__________________________________________________________________________________________________\n",
            "conv2d_5 (Conv2D)               (None, 48, 48, 64)   18496       max_pooling2d_2[0][0]            \n",
            "__________________________________________________________________________________________________\n",
            "batch_normalization_4 (BatchNor (None, 48, 48, 64)   256         conv2d_5[0][0]                   \n",
            "__________________________________________________________________________________________________\n",
            "activation_4 (Activation)       (None, 48, 48, 64)   0           batch_normalization_4[0][0]      \n",
            "__________________________________________________________________________________________________\n",
            "max_pooling2d_3 (MaxPooling2D)  (None, 24, 24, 64)   0           activation_4[0][0]               \n",
            "__________________________________________________________________________________________________\n",
            "conv2d_6 (Conv2D)               (None, 24, 24, 128)  73856       max_pooling2d_3[0][0]            \n",
            "__________________________________________________________________________________________________\n",
            "batch_normalization_5 (BatchNor (None, 24, 24, 128)  512         conv2d_6[0][0]                   \n",
            "__________________________________________________________________________________________________\n",
            "activation_5 (Activation)       (None, 24, 24, 128)  0           batch_normalization_5[0][0]      \n",
            "__________________________________________________________________________________________________\n",
            "max_pooling2d_4 (MaxPooling2D)  (None, 12, 12, 128)  0           activation_5[0][0]               \n",
            "__________________________________________________________________________________________________\n",
            "conv2d_7 (Conv2D)               (None, 12, 12, 256)  295168      max_pooling2d_4[0][0]            \n",
            "__________________________________________________________________________________________________\n",
            "batch_normalization_6 (BatchNor (None, 12, 12, 256)  1024        conv2d_7[0][0]                   \n",
            "__________________________________________________________________________________________________\n",
            "activation_6 (Activation)       (None, 12, 12, 256)  0           batch_normalization_6[0][0]      \n",
            "__________________________________________________________________________________________________\n",
            "up_sampling2d_2 (UpSampling2D)  (None, 24, 24, 256)  0           activation_6[0][0]               \n",
            "__________________________________________________________________________________________________\n",
            "concatenate_2 (Concatenate)     (None, 24, 24, 384)  0           up_sampling2d_2[0][0]            \n",
            "                                                                 activation_5[0][0]               \n",
            "__________________________________________________________________________________________________\n",
            "conv2d_8 (Conv2D)               (None, 24, 24, 256)  884992      concatenate_2[0][0]              \n",
            "__________________________________________________________________________________________________\n",
            "batch_normalization_7 (BatchNor (None, 24, 24, 256)  1024        conv2d_8[0][0]                   \n",
            "__________________________________________________________________________________________________\n",
            "activation_7 (Activation)       (None, 24, 24, 256)  0           batch_normalization_7[0][0]      \n",
            "__________________________________________________________________________________________________\n",
            "up_sampling2d_3 (UpSampling2D)  (None, 48, 48, 256)  0           activation_7[0][0]               \n",
            "__________________________________________________________________________________________________\n",
            "concatenate_3 (Concatenate)     (None, 48, 48, 320)  0           up_sampling2d_3[0][0]            \n",
            "                                                                 activation_4[0][0]               \n",
            "__________________________________________________________________________________________________\n",
            "conv2d_9 (Conv2D)               (None, 48, 48, 128)  368768      concatenate_3[0][0]              \n",
            "__________________________________________________________________________________________________\n",
            "batch_normalization_8 (BatchNor (None, 48, 48, 128)  512         conv2d_9[0][0]                   \n",
            "__________________________________________________________________________________________________\n",
            "activation_8 (Activation)       (None, 48, 48, 128)  0           batch_normalization_8[0][0]      \n",
            "__________________________________________________________________________________________________\n",
            "up_sampling2d_4 (UpSampling2D)  (None, 96, 96, 128)  0           activation_8[0][0]               \n",
            "__________________________________________________________________________________________________\n",
            "concatenate_4 (Concatenate)     (None, 96, 96, 160)  0           up_sampling2d_4[0][0]            \n",
            "                                                                 activation_3[0][0]               \n",
            "__________________________________________________________________________________________________\n",
            "conv2d_10 (Conv2D)              (None, 96, 96, 64)   92224       concatenate_4[0][0]              \n",
            "__________________________________________________________________________________________________\n",
            "batch_normalization_9 (BatchNor (None, 96, 96, 64)   256         conv2d_10[0][0]                  \n",
            "__________________________________________________________________________________________________\n",
            "activation_9 (Activation)       (None, 96, 96, 64)   0           batch_normalization_9[0][0]      \n",
            "__________________________________________________________________________________________________\n",
            "conv2d_11 (Conv2D)              (None, 96, 96, 32)   18464       activation_9[0][0]               \n",
            "__________________________________________________________________________________________________\n",
            "batch_normalization_10 (BatchNo (None, 96, 96, 32)   128         conv2d_11[0][0]                  \n",
            "__________________________________________________________________________________________________\n",
            "activation_10 (Activation)      (None, 96, 96, 32)   0           batch_normalization_10[0][0]     \n",
            "__________________________________________________________________________________________________\n",
            "conv2d_12 (Conv2D)              (None, 96, 96, 1)    33          activation_10[0][0]              \n",
            "==================================================================================================\n",
            "Total params: 1,756,161\n",
            "Trainable params: 1,754,241\n",
            "Non-trainable params: 1,920\n",
            "__________________________________________________________________________________________________\n"
          ],
          "name": "stdout"
        }
      ]
    },
    {
      "metadata": {
        "id": "IDYUU7JfpLYN",
        "colab_type": "text"
      },
      "cell_type": "markdown",
      "source": [
        "# 폐 영역 분리 AI 모델 만들기2"
      ]
    },
    {
      "metadata": {
        "id": "QIJayPidm1AB",
        "colab_type": "code",
        "colab": {}
      },
      "cell_type": "code",
      "source": [
        "def conv_layer(layer, filters, activation, kernel_size=(3, 3)):\n",
        "    layer = Conv2D(filters=filters, kernel_size=kernel_size, activation=None, padding='same')(layer)\n",
        "    layer = BatchNormalization()(layer)\n",
        "    layer = Activation(activation)(layer)\n",
        "    return layer"
      ],
      "execution_count": 0,
      "outputs": []
    },
    {
      "metadata": {
        "id": "FZ6rWqS7m5fw",
        "colab_type": "code",
        "colab": {
          "base_uri": "https://localhost:8080/",
          "height": 1377
        },
        "outputId": "d5dbebc8-0dfb-4bd7-cea4-272eeb5aaff4"
      },
      "cell_type": "code",
      "source": [
        "input_layer = Input(shape=imgs_train.shape[1:])\n",
        "\n",
        "filters = INIT_FILTERS\n",
        "c1 = conv_layer(layer=input_layer, filters=filters, activation=ACTIVATION_FN)\n",
        "l = MaxPool2D(strides=(2, 2))(c1)\n",
        "\n",
        "filters *= 2\n",
        "c2 = conv_layer(layer=l, filters=filters, activation=ACTIVATION_FN)\n",
        "l = MaxPool2D(strides=(2, 2))(c2)\n",
        "\n",
        "filters *= 2\n",
        "c3 = conv_layer(layer=l, filters=filters, activation=ACTIVATION_FN)\n",
        "l = MaxPool2D(strides=(2, 2))(c3)\n",
        "\n",
        "filters *= 2\n",
        "c4 = conv_layer(layer=l, filters=filters, activation=ACTIVATION_FN)\n",
        "l = concatenate([UpSampling2D(size=(2, 2))(c4), c3], axis=-1)\n",
        "\n",
        "l = conv_layer(layer=l, filters=filters, activation=ACTIVATION_FN)\n",
        "l = concatenate([UpSampling2D(size=(2, 2))(l), c2], axis=-1)\n",
        "\n",
        "filters //= 2\n",
        "l = conv_layer(layer=l, filters=filters, activation=ACTIVATION_FN)\n",
        "l = concatenate([UpSampling2D(size=(2, 2))(l), c1], axis=-1)\n",
        "\n",
        "filters //= 2\n",
        "l = conv_layer(layer=l, filters=filters, activation=ACTIVATION_FN)\n",
        "\n",
        "filters //= 2\n",
        "l = conv_layer(layer=l, filters=filters, activation=ACTIVATION_FN)\n",
        "\n",
        "output_layer = Conv2D(filters=1, kernel_size=(1, 1), activation='sigmoid')(l)\n",
        "    \n",
        "model = Model(input_layer, output_layer)\n",
        "model.summary()"
      ],
      "execution_count": 42,
      "outputs": [
        {
          "output_type": "stream",
          "text": [
            "__________________________________________________________________________________________________\n",
            "Layer (type)                    Output Shape         Param #     Connected to                     \n",
            "==================================================================================================\n",
            "input_3 (InputLayer)            (None, 96, 96, 1)    0                                            \n",
            "__________________________________________________________________________________________________\n",
            "conv2d_13 (Conv2D)              (None, 96, 96, 32)   320         input_3[0][0]                    \n",
            "__________________________________________________________________________________________________\n",
            "batch_normalization_11 (BatchNo (None, 96, 96, 32)   128         conv2d_13[0][0]                  \n",
            "__________________________________________________________________________________________________\n",
            "activation_11 (Activation)      (None, 96, 96, 32)   0           batch_normalization_11[0][0]     \n",
            "__________________________________________________________________________________________________\n",
            "max_pooling2d_5 (MaxPooling2D)  (None, 48, 48, 32)   0           activation_11[0][0]              \n",
            "__________________________________________________________________________________________________\n",
            "conv2d_14 (Conv2D)              (None, 48, 48, 64)   18496       max_pooling2d_5[0][0]            \n",
            "__________________________________________________________________________________________________\n",
            "batch_normalization_12 (BatchNo (None, 48, 48, 64)   256         conv2d_14[0][0]                  \n",
            "__________________________________________________________________________________________________\n",
            "activation_12 (Activation)      (None, 48, 48, 64)   0           batch_normalization_12[0][0]     \n",
            "__________________________________________________________________________________________________\n",
            "max_pooling2d_6 (MaxPooling2D)  (None, 24, 24, 64)   0           activation_12[0][0]              \n",
            "__________________________________________________________________________________________________\n",
            "conv2d_15 (Conv2D)              (None, 24, 24, 128)  73856       max_pooling2d_6[0][0]            \n",
            "__________________________________________________________________________________________________\n",
            "batch_normalization_13 (BatchNo (None, 24, 24, 128)  512         conv2d_15[0][0]                  \n",
            "__________________________________________________________________________________________________\n",
            "activation_13 (Activation)      (None, 24, 24, 128)  0           batch_normalization_13[0][0]     \n",
            "__________________________________________________________________________________________________\n",
            "max_pooling2d_7 (MaxPooling2D)  (None, 12, 12, 128)  0           activation_13[0][0]              \n",
            "__________________________________________________________________________________________________\n",
            "conv2d_16 (Conv2D)              (None, 12, 12, 256)  295168      max_pooling2d_7[0][0]            \n",
            "__________________________________________________________________________________________________\n",
            "batch_normalization_14 (BatchNo (None, 12, 12, 256)  1024        conv2d_16[0][0]                  \n",
            "__________________________________________________________________________________________________\n",
            "activation_14 (Activation)      (None, 12, 12, 256)  0           batch_normalization_14[0][0]     \n",
            "__________________________________________________________________________________________________\n",
            "up_sampling2d_5 (UpSampling2D)  (None, 24, 24, 256)  0           activation_14[0][0]              \n",
            "__________________________________________________________________________________________________\n",
            "concatenate_5 (Concatenate)     (None, 24, 24, 384)  0           up_sampling2d_5[0][0]            \n",
            "                                                                 activation_13[0][0]              \n",
            "__________________________________________________________________________________________________\n",
            "conv2d_17 (Conv2D)              (None, 24, 24, 256)  884992      concatenate_5[0][0]              \n",
            "__________________________________________________________________________________________________\n",
            "batch_normalization_15 (BatchNo (None, 24, 24, 256)  1024        conv2d_17[0][0]                  \n",
            "__________________________________________________________________________________________________\n",
            "activation_15 (Activation)      (None, 24, 24, 256)  0           batch_normalization_15[0][0]     \n",
            "__________________________________________________________________________________________________\n",
            "up_sampling2d_6 (UpSampling2D)  (None, 48, 48, 256)  0           activation_15[0][0]              \n",
            "__________________________________________________________________________________________________\n",
            "concatenate_6 (Concatenate)     (None, 48, 48, 320)  0           up_sampling2d_6[0][0]            \n",
            "                                                                 activation_12[0][0]              \n",
            "__________________________________________________________________________________________________\n",
            "conv2d_18 (Conv2D)              (None, 48, 48, 128)  368768      concatenate_6[0][0]              \n",
            "__________________________________________________________________________________________________\n",
            "batch_normalization_16 (BatchNo (None, 48, 48, 128)  512         conv2d_18[0][0]                  \n",
            "__________________________________________________________________________________________________\n",
            "activation_16 (Activation)      (None, 48, 48, 128)  0           batch_normalization_16[0][0]     \n",
            "__________________________________________________________________________________________________\n",
            "up_sampling2d_7 (UpSampling2D)  (None, 96, 96, 128)  0           activation_16[0][0]              \n",
            "__________________________________________________________________________________________________\n",
            "concatenate_7 (Concatenate)     (None, 96, 96, 160)  0           up_sampling2d_7[0][0]            \n",
            "                                                                 activation_11[0][0]              \n",
            "__________________________________________________________________________________________________\n",
            "conv2d_19 (Conv2D)              (None, 96, 96, 64)   92224       concatenate_7[0][0]              \n",
            "__________________________________________________________________________________________________\n",
            "batch_normalization_17 (BatchNo (None, 96, 96, 64)   256         conv2d_19[0][0]                  \n",
            "__________________________________________________________________________________________________\n",
            "activation_17 (Activation)      (None, 96, 96, 64)   0           batch_normalization_17[0][0]     \n",
            "__________________________________________________________________________________________________\n",
            "conv2d_20 (Conv2D)              (None, 96, 96, 32)   18464       activation_17[0][0]              \n",
            "__________________________________________________________________________________________________\n",
            "batch_normalization_18 (BatchNo (None, 96, 96, 32)   128         conv2d_20[0][0]                  \n",
            "__________________________________________________________________________________________________\n",
            "activation_18 (Activation)      (None, 96, 96, 32)   0           batch_normalization_18[0][0]     \n",
            "__________________________________________________________________________________________________\n",
            "conv2d_21 (Conv2D)              (None, 96, 96, 1)    33          activation_18[0][0]              \n",
            "==================================================================================================\n",
            "Total params: 1,756,161\n",
            "Trainable params: 1,754,241\n",
            "Non-trainable params: 1,920\n",
            "__________________________________________________________________________________________________\n"
          ],
          "name": "stdout"
        }
      ]
    },
    {
      "metadata": {
        "id": "eI2tU6rqpOWa",
        "colab_type": "text"
      },
      "cell_type": "markdown",
      "source": [
        "# 미리 훈련시킨 AI 모델 파일 불러오기\n",
        "\n",
        "AI 모델을 처음부터 훈련시켜도 되지만,  \n",
        "미리 훈련시킨 모델 파일이 있는 경우 불러와서 훈련시킬 수도 있습니다. "
      ]
    },
    {
      "metadata": {
        "id": "gSxmMc1Wm7Ep",
        "colab_type": "code",
        "colab": {}
      },
      "cell_type": "code",
      "source": [
        "# model.load_weights('lung.h5')"
      ],
      "execution_count": 0,
      "outputs": []
    },
    {
      "metadata": {
        "id": "CvLb3sdapULC",
        "colab_type": "text"
      },
      "cell_type": "markdown",
      "source": [
        "# AI 모델 옵션 설정하기\n",
        "\n",
        "AI 모델을 만든 후 여러가지 훈련 옵션을 설정할 수 있습니다.  \n",
        "학습률(Learning_rate) 과 손실함수(Loss function), 정확도 기준(Dice_score) 등을 설정해 봅시다.\n",
        "\n",
        "먼저 정확도 기준으로 Dice score 를 살펴봅시다.  "
      ]
    },
    {
      "metadata": {
        "id": "vKBvh3_Fm-t7",
        "colab_type": "code",
        "colab": {}
      },
      "cell_type": "code",
      "source": [
        " def dice_score(y_true, y_pred):\n",
        "    y_true_f = K.flatten(y_true)\n",
        "    y_pred_f = K.flatten(y_pred)\n",
        "    intersection = K.sum(y_true_f * y_pred_f)\n",
        "    return (2. * intersection + K.epsilon()) / (K.sum(y_true_f) + K.sum(y_pred_f) + K.epsilon())"
      ],
      "execution_count": 0,
      "outputs": []
    },
    {
      "metadata": {
        "id": "5x-6Bb7spXCT",
        "colab_type": "text"
      },
      "cell_type": "markdown",
      "source": [
        "옵션은 complie 을 통해 설정할 수 있습니다.  \n",
        "모델의 값을 학습시키는 **Optimizer** 는 **Adam** 을 사용하고,  \n",
        "정답 레이블과 예측값 사이의 차이를 계산하는 **손실 함수**는 **Cross entropy** 를 사용했습니다.   \n",
        "마지막으로 **정확도 판단 기준**으로는 위에서 만든 **Dice score** 를 사용합니다. "
      ]
    },
    {
      "metadata": {
        "id": "h4hirMCUnALn",
        "colab_type": "code",
        "colab": {}
      },
      "cell_type": "code",
      "source": [
        "model.compile(optimizer=Adam(LEARNING_RATE), loss='binary_crossentropy', metrics=[dice_score])"
      ],
      "execution_count": 0,
      "outputs": []
    },
    {
      "metadata": {
        "id": "ryT5ajVApZbf",
        "colab_type": "text"
      },
      "cell_type": "markdown",
      "source": [
        "추가적으로 AI 모델 훈련 파일을 lung.h5 라는 파일로 저장해 다음에 사용할 수 있도록 했고,  \n",
        "학습이 진행될 수록 학습률(Learning_rate)를 감소시켜 세밀한 조정이 가능하게 했습니다."
      ]
    },
    {
      "metadata": {
        "id": "4Pbve_Y4nB9A",
        "colab_type": "code",
        "colab": {}
      },
      "cell_type": "code",
      "source": [
        "weight_saver = ModelCheckpoint('lung.h5', monitor='val_dice_score', save_best_only=True, save_weights_only=True)\n",
        "decayed_lr = LearningRateScheduler(lambda x: LEARNING_RATE * DECAY_RATE ** x)"
      ],
      "execution_count": 0,
      "outputs": []
    },
    {
      "metadata": {
        "id": "MSoGUOq5pbq6",
        "colab_type": "text"
      },
      "cell_type": "markdown",
      "source": [
        "# AI 모델 훈련하기\n",
        "\n",
        "이렇게 준비한 AI 모델을 fit 함수를 이용해 훈련시킬 수 있습니다. "
      ]
    },
    {
      "metadata": {
        "id": "SWwUbcKXnEMi",
        "colab_type": "code",
        "colab": {
          "base_uri": "https://localhost:8080/",
          "height": 445
        },
        "outputId": "85a4ca1c-09ad-4369-bfb7-fd0e2bee7cbf"
      },
      "cell_type": "code",
      "source": [
        "history = model.fit(imgs_train, masks_train,\n",
        "                    batch_size=BATCH_SIZE,\n",
        "                    epochs=EPOCHS,\n",
        "                    validation_data=(imgs_val, masks_val),\n",
        "                    shuffle=True,\n",
        "                    verbose=2,\n",
        "                    callbacks=[weight_saver, decayed_lr])"
      ],
      "execution_count": 47,
      "outputs": [
        {
          "output_type": "stream",
          "text": [
            "WARNING:tensorflow:From /usr/local/lib/python3.6/dist-packages/tensorflow/python/ops/math_ops.py:3066: to_int32 (from tensorflow.python.ops.math_ops) is deprecated and will be removed in a future version.\n",
            "Instructions for updating:\n",
            "Use tf.cast instead.\n",
            "Train on 40 samples, validate on 10 samples\n",
            "Epoch 1/10\n",
            " - 23s - loss: 0.4756 - dice_score: 0.5846 - val_loss: 0.9761 - val_dice_score: 0.5493\n",
            "Epoch 2/10\n",
            " - 20s - loss: 0.1985 - dice_score: 0.7591 - val_loss: 0.8757 - val_dice_score: 0.5918\n",
            "Epoch 3/10\n",
            " - 20s - loss: 0.1453 - dice_score: 0.7996 - val_loss: 0.6248 - val_dice_score: 0.6465\n",
            "Epoch 4/10\n",
            " - 20s - loss: 0.1252 - dice_score: 0.8165 - val_loss: 0.4347 - val_dice_score: 0.6924\n",
            "Epoch 5/10\n",
            " - 20s - loss: 0.1123 - dice_score: 0.8318 - val_loss: 0.2102 - val_dice_score: 0.7926\n",
            "Epoch 6/10\n",
            " - 20s - loss: 0.1058 - dice_score: 0.8399 - val_loss: 0.1733 - val_dice_score: 0.8034\n",
            "Epoch 7/10\n",
            " - 20s - loss: 0.0976 - dice_score: 0.8472 - val_loss: 0.1626 - val_dice_score: 0.8205\n",
            "Epoch 8/10\n",
            " - 20s - loss: 0.0968 - dice_score: 0.8500 - val_loss: 0.1278 - val_dice_score: 0.8385\n",
            "Epoch 9/10\n",
            " - 20s - loss: 0.0911 - dice_score: 0.8581 - val_loss: 0.0971 - val_dice_score: 0.8597\n",
            "Epoch 10/10\n",
            " - 20s - loss: 0.0896 - dice_score: 0.8581 - val_loss: 0.1067 - val_dice_score: 0.8552\n"
          ],
          "name": "stdout"
        }
      ]
    },
    {
      "metadata": {
        "id": "8YQvG9h4pd9P",
        "colab_type": "text"
      },
      "cell_type": "markdown",
      "source": [
        "# 훈련 결과 확인하기\n",
        "\n",
        "훈련 결과를 한 눈에 확인할 수 있는 그래프를 만들어 보겠습니다.\n",
        "\n",
        "먼저 그래프의 y축에 사용할 값들을 history 항목에서 추출해 봅시다."
      ]
    },
    {
      "metadata": {
        "id": "FuQGwvnnnF0F",
        "colab_type": "code",
        "colab": {}
      },
      "cell_type": "code",
      "source": [
        "dice_score = history.history['dice_score']\n",
        "val_dice_score = history.history['val_dice_score']\n",
        "loss = history.history['loss']\n",
        "val_loss = history.history['val_loss']"
      ],
      "execution_count": 0,
      "outputs": []
    },
    {
      "metadata": {
        "id": "pOEZsdPophFU",
        "colab_type": "text"
      },
      "cell_type": "markdown",
      "source": [
        "다음으로 그래프의 x축 값으로 사용할 epoch 을 뽑아 보겠습니다."
      ]
    },
    {
      "metadata": {
        "id": "vphq1o1knIEH",
        "colab_type": "code",
        "colab": {}
      },
      "cell_type": "code",
      "source": [
        "epochs = range(len(dice_score))"
      ],
      "execution_count": 0,
      "outputs": []
    },
    {
      "metadata": {
        "id": "X0BK6IpXpjNe",
        "colab_type": "text"
      },
      "cell_type": "markdown",
      "source": [
        "각 값들을 확인해볼까요?"
      ]
    },
    {
      "metadata": {
        "id": "9Z4-FwhRnJxa",
        "colab_type": "code",
        "colab": {
          "base_uri": "https://localhost:8080/",
          "height": 187
        },
        "outputId": "6f412fdd-20c2-45e9-ccce-b19f0216e95a"
      },
      "cell_type": "code",
      "source": [
        "dice_score"
      ],
      "execution_count": 50,
      "outputs": [
        {
          "output_type": "execute_result",
          "data": {
            "text/plain": [
              "[0.5846127234399319,\n",
              " 0.7591085135936737,\n",
              " 0.7996060401201248,\n",
              " 0.8164512440562248,\n",
              " 0.8317554518580437,\n",
              " 0.8398544639348984,\n",
              " 0.8471859842538834,\n",
              " 0.8499905690550804,\n",
              " 0.8580532670021057,\n",
              " 0.8580549582839012]"
            ]
          },
          "metadata": {
            "tags": []
          },
          "execution_count": 50
        }
      ]
    },
    {
      "metadata": {
        "id": "FwmndcAxnMQ7",
        "colab_type": "code",
        "colab": {
          "base_uri": "https://localhost:8080/",
          "height": 187
        },
        "outputId": "9fd5417b-5cc0-46c8-ceeb-37408fc3d6af"
      },
      "cell_type": "code",
      "source": [
        "val_dice_score"
      ],
      "execution_count": 51,
      "outputs": [
        {
          "output_type": "execute_result",
          "data": {
            "text/plain": [
              "[0.5493025779724121,\n",
              " 0.591825932264328,\n",
              " 0.6464656889438629,\n",
              " 0.6923582553863525,\n",
              " 0.7926216125488281,\n",
              " 0.8034449517726898,\n",
              " 0.8204545676708221,\n",
              " 0.8384631276130676,\n",
              " 0.8597415387630463,\n",
              " 0.8552140295505524]"
            ]
          },
          "metadata": {
            "tags": []
          },
          "execution_count": 51
        }
      ]
    },
    {
      "metadata": {
        "id": "jNuQodrunOMT",
        "colab_type": "code",
        "colab": {
          "base_uri": "https://localhost:8080/",
          "height": 187
        },
        "outputId": "16733d66-81a7-4381-c5e2-63e6b59964f7"
      },
      "cell_type": "code",
      "source": [
        "loss"
      ],
      "execution_count": 52,
      "outputs": [
        {
          "output_type": "execute_result",
          "data": {
            "text/plain": [
              "[0.4756054915487766,\n",
              " 0.19852621667087078,\n",
              " 0.14531574957072735,\n",
              " 0.12519603222608566,\n",
              " 0.11234906502068043,\n",
              " 0.10582162626087666,\n",
              " 0.09759335685521364,\n",
              " 0.0967730674892664,\n",
              " 0.09105278085917234,\n",
              " 0.08963154349476099]"
            ]
          },
          "metadata": {
            "tags": []
          },
          "execution_count": 52
        }
      ]
    },
    {
      "metadata": {
        "id": "VVf8aLm1nP1o",
        "colab_type": "code",
        "colab": {
          "base_uri": "https://localhost:8080/",
          "height": 187
        },
        "outputId": "2a727e9a-c1e6-4709-fd72-fe7619dd90c5"
      },
      "cell_type": "code",
      "source": [
        "val_loss"
      ],
      "execution_count": 53,
      "outputs": [
        {
          "output_type": "execute_result",
          "data": {
            "text/plain": [
              "[0.9761464893817902,\n",
              " 0.8757460713386536,\n",
              " 0.6247884333133698,\n",
              " 0.4347202479839325,\n",
              " 0.2101753056049347,\n",
              " 0.17326529324054718,\n",
              " 0.16255617141723633,\n",
              " 0.12780141830444336,\n",
              " 0.09705658629536629,\n",
              " 0.10672969743609428]"
            ]
          },
          "metadata": {
            "tags": []
          },
          "execution_count": 53
        }
      ]
    },
    {
      "metadata": {
        "id": "WzEs31McnRux",
        "colab_type": "code",
        "colab": {
          "base_uri": "https://localhost:8080/",
          "height": 34
        },
        "outputId": "0052ec05-aacf-4530-c414-ff14508d752d"
      },
      "cell_type": "code",
      "source": [
        "list(epochs)"
      ],
      "execution_count": 54,
      "outputs": [
        {
          "output_type": "execute_result",
          "data": {
            "text/plain": [
              "[0, 1, 2, 3, 4, 5, 6, 7, 8, 9]"
            ]
          },
          "metadata": {
            "tags": []
          },
          "execution_count": 54
        }
      ]
    },
    {
      "metadata": {
        "id": "S6hSDdDlpm7u",
        "colab_type": "text"
      },
      "cell_type": "markdown",
      "source": [
        "이 값들을 이용해 그래프를 만들어 보겠습니다.  \n",
        "\n",
        "먼저 정확도 그래프를 그려볼까요?"
      ]
    },
    {
      "metadata": {
        "id": "Qmb24gPinTHX",
        "colab_type": "code",
        "colab": {
          "base_uri": "https://localhost:8080/",
          "height": 362
        },
        "outputId": "90e29167-76b6-4948-92c6-29e98063e5b4"
      },
      "cell_type": "code",
      "source": [
        "plt.plot(epochs, dice_score, 'b', color='blue', label='Training score')\n",
        "plt.plot(epochs, val_dice_score, 'b', color='red', label='Validation score')\n",
        "plt.title('Training and validation score')\n",
        "plt.legend()\n",
        "plt.show()"
      ],
      "execution_count": 55,
      "outputs": [
        {
          "output_type": "display_data",
          "data": {
            "image/png": "[encoded data removed]",
            "text/plain": [
              "<Figure size 576x396 with 1 Axes>"
            ]
          },
          "metadata": {
            "tags": []
          }
        }
      ]
    },
    {
      "metadata": {
        "id": "g2EX8CnyppyE",
        "colab_type": "text"
      },
      "cell_type": "markdown",
      "source": [
        "다음으로 손실 그래프를 살펴보겠습니다."
      ]
    },
    {
      "metadata": {
        "id": "KahGmzBPnU0E",
        "colab_type": "code",
        "colab": {
          "base_uri": "https://localhost:8080/",
          "height": 362
        },
        "outputId": "42e3eee7-ad35-4223-ea12-2cf75c41d93f"
      },
      "cell_type": "code",
      "source": [
        "plt.plot(epochs, loss, 'b', color='blue', label='Training loss')\n",
        "plt.plot(epochs, val_loss, 'b', color='red', label='Validation loss')\n",
        "plt.title('Training and validation loss')\n",
        "plt.legend()\n",
        "plt.show()"
      ],
      "execution_count": 56,
      "outputs": [
        {
          "output_type": "display_data",
          "data": {
            "image/png": "[encoded data removed]",
            "text/plain": [
              "<Figure size 576x396 with 1 Axes>"
            ]
          },
          "metadata": {
            "tags": []
          }
        }
      ]
    },
    {
      "metadata": {
        "id": "7qUXcUmQpsFQ",
        "colab_type": "text"
      },
      "cell_type": "markdown",
      "source": [
        "# 이미지로 결과 확인하기\n",
        "\n",
        "마지막으로 AI 모델이 실제로 폐 영역을 잘 분리하는지 이미지로 결과를 확인해 보겠습니다. "
      ]
    },
    {
      "metadata": {
        "id": "NDMyQ1ljnWS-",
        "colab_type": "code",
        "colab": {
          "base_uri": "https://localhost:8080/",
          "height": 1115
        },
        "outputId": "9e972eff-e94d-490d-a12b-1f8a9d96b6e1"
      },
      "cell_type": "code",
      "source": [
        "fix, ax = plt.subplots(5, 3, figsize=(10,20))\n",
        "for i in range(5):\n",
        "    pred = model.predict(imgs_train[i][np.newaxis, :, : ,:])\n",
        "    mask = (pred >= 0.5).astype(np.uint8)\n",
        "    ax[i, 0].imshow(imgs_train[i, :, :, 0], cmap='gray')\n",
        "    ax[i, 1].imshow(masks_train[i, :, :, 0], cmap='gray')\n",
        "    ax[i, 2].imshow(mask[0, :, :, 0], cmap='gray')\n",
        "plt.show()"
      ],
      "execution_count": 57,
      "outputs": [
        {
          "output_type": "display_data",
          "data": {
            "image/png": "[encoded data removed]",
            "text/plain": [
              "<Figure size 720x1440 with 15 Axes>"
            ]
          },
          "metadata": {
            "tags": []
          }
        }
      ]
    },
    {
      "metadata": {
        "id": "XlDLkQbrnYEE",
        "colab_type": "code",
        "colab": {}
      },
      "cell_type": "code",
      "source": [
        ""
      ],
      "execution_count": 0,
      "outputs": []
    }
  ]
}