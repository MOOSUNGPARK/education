{
  "nbformat": 4,
  "nbformat_minor": 0,
  "metadata": {
    "colab": {
      "name": "segmentation_lung_cancer2.ipynb",
      "version": "0.3.2",
      "provenance": [],
      "include_colab_link": true
    },
    "kernelspec": {
      "name": "python3",
      "display_name": "Python 3"
    }
  },
  "cells": [
    {
      "cell_type": "markdown",
      "metadata": {
        "id": "view-in-github",
        "colab_type": "text"
      },
      "source": [
        "<a href=\"https://colab.research.google.com/github/MOOSUNGPARK/education/blob/master/segmentation_lung_cancer2.ipynb\" target=\"_parent\"><img src=\"https://colab.research.google.com/assets/colab-badge.svg\" alt=\"Open In Colab\"/></a>"
      ]
    },
    {
      "metadata": {
        "id": "jlgqXoOgbYmp",
        "colab_type": "code",
        "colab": {}
      },
      "cell_type": "code",
      "source": [
        "!git clone https://github.com/deepnoid/education.git"
      ],
      "execution_count": 0,
      "outputs": []
    },
    {
      "metadata": {
        "id": "TfMoAlD3b04S",
        "colab_type": "code",
        "colab": {}
      },
      "cell_type": "code",
      "source": [
        "from keras.models import Model\n",
        "from keras.layers import *\n",
        "from keras.optimizers import Adam\n",
        "from keras.regularizers import l2\n",
        "from keras.preprocessing.image import ImageDataGenerator\n",
        "from keras.callbacks import LearningRateScheduler, ModelCheckpoint\n",
        "from sklearn.preprocessing import scale\n",
        "from sklearn.model_selection import train_test_split\n",
        "import keras.backend as K\n",
        "import os\n",
        "import numpy as np\n",
        "import cv2\n",
        "import matplotlib.pyplot as plt\n",
        "import glob\n",
        "from skimage.transform import rotate\n",
        "from skimage import exposure"
      ],
      "execution_count": 0,
      "outputs": []
    },
    {
      "metadata": {
        "id": "cfDKhjfob50h",
        "colab_type": "code",
        "colab": {}
      },
      "cell_type": "code",
      "source": [
        "BASE_PATH = r'./education/7. Deep Learning Keras/dataset/segmentation'\n",
        "IMG_DATA_PATH = os.path.join(BASE_PATH, 'lung_cancer', 'input', '2d_images')\n",
        "MASK_DATA_PATH = os.path.join(BASE_PATH, 'lung_cancer', 'input', '2d_masks')"
      ],
      "execution_count": 0,
      "outputs": []
    },
    {
      "metadata": {
        "id": "bruWy0BZb7rx",
        "colab_type": "code",
        "colab": {},
        "cellView": "form"
      },
      "cell_type": "code",
      "source": [
        "#@title\n",
        "def left_shifting(img, shift_rate=0.1):\n",
        "    h, w = img.shape\n",
        "    margin = int(w*shift_rate)\n",
        "    img_with_margin = np.pad(img, ((0, 0), (0, margin)), 'constant')\n",
        "    img = img_with_margin[:,margin:] \n",
        "    return img \n",
        "  \n",
        "def right_shifting(img, shift_rate=0.1):\n",
        "    h, w = img.shape\n",
        "    margin = int(w*shift_rate)\n",
        "    img_with_margin = np.pad(img, ((0, 0), (margin, 0)), 'constant')\n",
        "    img = img_with_margin[:,:w]\n",
        "    return img \n",
        "\n",
        "def up_shifting(img, shift_rate=0.1):\n",
        "    h, w = img.shape\n",
        "    margin = int(h*shift_rate)\n",
        "    img_with_margin = np.pad(img, ((0, margin), (0, 0)), 'constant')\n",
        "    img = img_with_margin[margin:,:]\n",
        "    return img \n",
        "\n",
        "def down_shifting(img, shift_rate=0.1):\n",
        "    h, w = img.shape\n",
        "    margin = int(h*shift_rate)\n",
        "    img_with_margin = np.pad(img, ((margin, 0), (0, 0)), 'constant')\n",
        "    img = img_with_margin[:h,:]\n",
        "    return img \n",
        "  \n",
        "def erasing(image_origin, p=0.5, s=(0.04, 0.08), r=(0.5, 1.5), mask_value='random'):\n",
        "    image = np.copy(image_origin)\n",
        "    if mask_value == 'mean':\n",
        "        mask_value = image.mean()\n",
        "    elif mask_value == 'random':\n",
        "        mask_value = np.random.randint(0, 1)\n",
        "    h, w = image.shape\n",
        "    mask_area = np.random.randint(h * w * s[0], h * w * s[1])\n",
        "    mask_aspect_ratio = np.random.rand() * r[1] + r[0]\n",
        "    mask_height = int(np.sqrt(mask_area / mask_aspect_ratio))\n",
        "    if mask_height > h - 1:\n",
        "        mask_height = h - 1\n",
        "    mask_width = int(mask_aspect_ratio * mask_height)\n",
        "    if mask_width > w - 1:\n",
        "        mask_width = w - 1\n",
        "\n",
        "    top = np.random.randint(0, h - mask_height)\n",
        "    left = np.random.randint(0, w - mask_width)\n",
        "    bottom = top + mask_height\n",
        "    right = left + mask_width\n",
        "    image[top:bottom, left:right].fill(mask_value)\n",
        "    return image\n",
        "  \n",
        "def rotating(img, angle=10):\n",
        "    return rotate(img, angle)\n",
        "\n",
        "def lr_flip(img):\n",
        "    return np.fliplr(img)\n",
        "  \n",
        "def ud_flip(img):\n",
        "    return np.flipud(img)\n",
        "\n",
        "def load_img(path, height=96, width=96):\n",
        "    img = cv2.imread(path, cv2.IMREAD_UNCHANGED)\n",
        "    return cv2.resize(img, dsize=(height, width), interpolation=cv2.INTER_AREA)\n",
        "  \n",
        "def load_imgs(paths, height=96, width=96):\n",
        "    return np.stack([load_img(path, height, width) for path in paths])[:,:,:,np.newaxis]\n",
        "\n",
        "def load_mask(path, height=96, width=96):\n",
        "    img = cv2.imread(path, cv2.IMREAD_UNCHANGED).astype(np.float32) / 255.\n",
        "    return cv2.resize(img, dsize=(height, width), interpolation=cv2.INTER_AREA)\n",
        "\n",
        "def load_masks(paths, height=96, width=96):\n",
        "    return np.stack([load_mask(path, height, width) for path in paths])[:,:,:,np.newaxis]\n",
        "\n",
        "def show_img(img):\n",
        "    plt.imshow(img, cmap='Greys')\n",
        "    plt.show()\n",
        "    \n",
        "def show_mask(mask):\n",
        "    plt.imshow(mask, cmap='gray')\n",
        "    plt.show()\n",
        "    \n",
        "def show_imgs(imgs):\n",
        "    for idx in range(5):\n",
        "        plt.imshow(imgs[idx,:,:,0], cmap='Greys')\n",
        "        plt.show()\n",
        "\n",
        "def show_masks(mask):\n",
        "    for idx in range(5):\n",
        "        plt.imshow(masks[idx,:,:,0], cmap='gray')\n",
        "        plt.show()\n",
        "        \n",
        "def conv_layer(layer, filters, activation, kernel_size=(3, 3)):\n",
        "    layer = Conv2D(filters=filters, kernel_size=kernel_size, activation=None, padding='same')(layer)\n",
        "    layer = BatchNormalization()(layer)\n",
        "    layer = Activation(activation)(layer)\n",
        "    return layer\n",
        "\n",
        "def make_unet(imgs, filters=32, activation='elu'):\n",
        "    \n",
        "    input_layer = Input(shape=imgs.shape[1:])\n",
        "\n",
        "    c1 = conv_layer(layer=input_layer, filters=filters, activation=activation)\n",
        "    l = MaxPool2D(strides=(2, 2))(c1)\n",
        "\n",
        "    filters *= 2\n",
        "    c2 = conv_layer(layer=l, filters=filters, activation=activation)\n",
        "    l = MaxPool2D(strides=(2, 2))(c2)\n",
        "\n",
        "    filters *= 2\n",
        "    c3 = conv_layer(layer=l, filters=filters, activation=activation)\n",
        "    l = MaxPool2D(strides=(2, 2))(c3)\n",
        "\n",
        "    filters *= 2\n",
        "    c4 = conv_layer(layer=l, filters=filters, activation=activation)\n",
        "    l = concatenate([UpSampling2D(size=(2, 2))(c4), c3], axis=-1)\n",
        "\n",
        "    l = conv_layer(layer=l, filters=filters, activation=activation)\n",
        "    l = concatenate([UpSampling2D(size=(2, 2))(l), c2], axis=-1)\n",
        "\n",
        "    filters //= 2\n",
        "    l = conv_layer(layer=l, filters=filters, activation=activation)\n",
        "    l = concatenate([UpSampling2D(size=(2, 2))(l), c1], axis=-1)\n",
        "\n",
        "    filters //= 2\n",
        "    l = conv_layer(layer=l, filters=filters, activation=activation)\n",
        "\n",
        "    filters //= 2\n",
        "    l = conv_layer(layer=l, filters=filters, activation=activation)\n",
        "\n",
        "    output_layer = Conv2D(filters=1, kernel_size=(1, 1), activation='sigmoid')(l)\n",
        "\n",
        "    model = Model(input_layer, output_layer)\n",
        "    model.summary()\n",
        "    return model\n",
        "  \n",
        "def train_unet(imgs, masks, model, batch_size=5, epochs=10, learning_rate=1e-4, decay_rate=0.9, val_ratio=0.2):\n",
        "    imgs_train, imgs_val, masks_train, masks_val = train_test_split(imgs, masks, test_size=val_ratio)\n",
        "    def dice_score(y_true, y_pred):\n",
        "        y_true_f = K.flatten(y_true)\n",
        "        y_pred_f = K.flatten(y_pred)\n",
        "        intersection = K.sum(y_true_f * y_pred_f)\n",
        "        return (2. * intersection + K.epsilon()) / (K.sum(y_true_f) + K.sum(y_pred_f) + K.epsilon())\n",
        "  \n",
        "    model.compile(optimizer=Adam(learning_rate), loss='binary_crossentropy', metrics=[dice_score])\n",
        "    weight_saver = ModelCheckpoint('lung.h5', monitor='val_dice_score', save_best_only=True, save_weights_only=True)\n",
        "    decayed_lr = LearningRateScheduler(lambda x: learning_rate * decay_rate ** x)\n",
        "    \n",
        "    history = model.fit(imgs_train, masks_train,\n",
        "                    batch_size=batch_size,\n",
        "                    epochs=epochs,\n",
        "                    validation_data=(imgs_val, masks_val),\n",
        "                    shuffle=True,\n",
        "                    verbose=2,\n",
        "                    callbacks=[weight_saver, decayed_lr])\n",
        "    return history\n",
        "  \n",
        "def show_results(history):\n",
        "    dice_score = history.history['dice_score']\n",
        "    val_dice_score = history.history['val_dice_score']\n",
        "    loss = history.history['loss']\n",
        "    val_loss = history.history['val_loss']\n",
        "    epochs = range(len(dice_score))\n",
        "    \n",
        "    plt.plot(epochs, dice_score, 'b', color='blue', label='Training score')\n",
        "    plt.plot(epochs, val_dice_score, 'b', color='red', label='Validation score')\n",
        "    plt.title('Training and validation score')\n",
        "    plt.legend()\n",
        "    plt.show()\n",
        "    \n",
        "    \n",
        "    plt.plot(epochs, loss, 'b', color='blue', label='Training loss')\n",
        "    plt.plot(epochs, val_loss, 'b', color='red', label='Validation loss')\n",
        "    plt.title('Training and validation loss')\n",
        "    plt.legend()\n",
        "    plt.show()\n",
        "    \n",
        "def show_result_imgs(imgs, masks):\n",
        "    fix, ax = plt.subplots(5, 3, figsize=(10,20))\n",
        "    for i in range(5):\n",
        "        pred = model.predict(imgs[i][np.newaxis, :, : ,:])\n",
        "        mask = (pred >= 0.5).astype(np.uint8)\n",
        "        ax[i, 0].imshow(imgs[i, :, :, 0], cmap='gray')\n",
        "        ax[i, 1].imshow(masks[i, :, :, 0], cmap='gray')\n",
        "        ax[i, 2].imshow(mask[0, :, :, 0], cmap='gray')\n",
        "    plt.show()"
      ],
      "execution_count": 0,
      "outputs": []
    },
    {
      "metadata": {
        "id": "HgjOohaFfHdh",
        "colab_type": "code",
        "colab": {}
      },
      "cell_type": "code",
      "source": [
        "img_paths = sorted(glob.glob(os.path.join(IMG_DATA_PATH, '*.tif')))\n",
        "mask_paths = sorted(glob.glob(os.path.join(MASK_DATA_PATH, '*.tif')))\n",
        "img_path = img_paths[0]\n",
        "mask_path = mask_paths[0]"
      ],
      "execution_count": 0,
      "outputs": []
    },
    {
      "metadata": {
        "id": "_l4f-gGPsXMP",
        "colab_type": "text"
      },
      "cell_type": "markdown",
      "source": [
        "#이미지 불러오기"
      ]
    },
    {
      "metadata": {
        "id": "mBHRaSGZe3mQ",
        "colab_type": "code",
        "colab": {}
      },
      "cell_type": "code",
      "source": [
        "imgs = load_imgs(img_paths)\n",
        "masks = load_masks(mask_paths)\n",
        "img = load_img(img_path)\n",
        "mask = load_mask(mask_path)"
      ],
      "execution_count": 0,
      "outputs": []
    },
    {
      "metadata": {
        "id": "GTg0AE3osu5o",
        "colab_type": "text"
      },
      "cell_type": "markdown",
      "source": [
        "#이미지 전처리하기\n",
        "\n",
        "###1. 이동\n",
        "img 위 : img=up_shifting(img)  \n",
        "img 아래 : img=down_shifting(img)  \n",
        "img 왼쪽 : img=left_shifting(img)  \n",
        "img 오른쪽 : img=right_shifting(img)   \n",
        "\n",
        "mask 위 : img=up_shifting(mask)  \n",
        "mask 아래 : img=down_shifting(mask)  \n",
        "mask 왼쪽 : img=left_shifting(mask)  \n",
        "mask 오른쪽 : img=right_shifting(mask)  \n",
        "\n",
        "###2. 회전\n",
        "img 10도 회전 : img=rotating(img, angle=10)    \n",
        "img 90도 회전 : img=rotating(img, angle=90)  \n",
        "\n",
        "mask 10도 회전 : mask=rotating(mask, angle=10)  \n",
        "mask 90도 회전: mask=rotating(mask, angle=90)  \n",
        "\n",
        "###3. 반전\n",
        "img 상하 : img=ud_filp(img)  \n",
        "img 좌우: img=lr_flip(img)  \n",
        "\n",
        "mask 상하 : mask=ud_flip(mask)  \n",
        "mask 좌우: mask=lr_flip(mask)\n",
        "\n",
        "###4. 일부 지우기\n",
        "img 지우기 : img=erasing(img)  \n",
        "\n",
        "mask 지우기 : mask=erasing(mask)\n",
        "\n",
        "###5. 이미지 출력\n",
        "img 출력 : show_img(img)  \n",
        "\n",
        "mask 출력 : show_mask(mask)\n",
        "\n",
        "\n",
        "\n",
        "\n",
        "  "
      ]
    },
    {
      "metadata": {
        "id": "xfFcbqepsyq_",
        "colab_type": "code",
        "colab": {}
      },
      "cell_type": "code",
      "source": [
        "img=up_shifting(img)\n",
        "show_img(img)"
      ],
      "execution_count": 0,
      "outputs": []
    },
    {
      "metadata": {
        "id": "cZt_wEsnr0yP",
        "colab_type": "text"
      },
      "cell_type": "markdown",
      "source": [
        "#이미지 확인하기"
      ]
    },
    {
      "metadata": {
        "id": "ACUKY0cUharw",
        "colab_type": "code",
        "colab": {}
      },
      "cell_type": "code",
      "source": [
        "show_imgs(imgs)"
      ],
      "execution_count": 0,
      "outputs": []
    },
    {
      "metadata": {
        "id": "-WfVzVA7r6Xg",
        "colab_type": "text"
      },
      "cell_type": "markdown",
      "source": [
        "#U-net 만들기"
      ]
    },
    {
      "metadata": {
        "id": "lFm5Jt-6kgUP",
        "colab_type": "code",
        "colab": {}
      },
      "cell_type": "code",
      "source": [
        "model = make_unet(imgs)"
      ],
      "execution_count": 0,
      "outputs": []
    },
    {
      "metadata": {
        "id": "tNDrFcP2r9cw",
        "colab_type": "text"
      },
      "cell_type": "markdown",
      "source": [
        "#U-net 학습하기"
      ]
    },
    {
      "metadata": {
        "id": "Dav4JqZzmqcP",
        "colab_type": "code",
        "colab": {}
      },
      "cell_type": "code",
      "source": [
        "history = train_unet(imgs, masks, model)"
      ],
      "execution_count": 0,
      "outputs": []
    },
    {
      "metadata": {
        "id": "FbNExqSbsFQk",
        "colab_type": "text"
      },
      "cell_type": "markdown",
      "source": [
        "# 결과 확인하기"
      ]
    },
    {
      "metadata": {
        "id": "MFm_aiC7o7p_",
        "colab_type": "code",
        "colab": {}
      },
      "cell_type": "code",
      "source": [
        "show_results(history)"
      ],
      "execution_count": 0,
      "outputs": []
    },
    {
      "metadata": {
        "id": "ZnPtesA7sHTv",
        "colab_type": "text"
      },
      "cell_type": "markdown",
      "source": [
        "#결과 이미지 출력"
      ]
    },
    {
      "metadata": {
        "id": "867X7Zx1qpwH",
        "colab_type": "code",
        "colab": {}
      },
      "cell_type": "code",
      "source": [
        "show_result_imgs(imgs, masks)"
      ],
      "execution_count": 0,
      "outputs": []
    },
    {
      "metadata": {
        "id": "ntRnfNikqxEv",
        "colab_type": "code",
        "colab": {}
      },
      "cell_type": "code",
      "source": [
        ""
      ],
      "execution_count": 0,
      "outputs": []
    }
  ]
}